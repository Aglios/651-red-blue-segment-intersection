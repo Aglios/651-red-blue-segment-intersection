{
 "cells": [
  {
   "cell_type": "markdown",
   "metadata": {
    "colab_type": "text",
    "id": "view-in-github"
   },
   "source": [
    "<a href=\"https://colab.research.google.com/github/Aglios/651-red-blue-segment-intersection/blob/master/Clippings%202.0.ipynb\" target=\"_parent\"><img src=\"https://colab.research.google.com/assets/colab-badge.svg\" alt=\"Open In Colab\"/></a>"
   ]
  },
  {
   "cell_type": "code",
   "execution_count": 0,
   "metadata": {
    "colab": {},
    "colab_type": "code",
    "id": "7L1UarF99hFf"
   },
   "outputs": [],
   "source": [
    "#!pip install ipdb"
   ]
  },
  {
   "cell_type": "code",
   "execution_count": 1,
   "metadata": {
    "colab": {},
    "colab_type": "code",
    "id": "BlEsH7yrSkAa"
   },
   "outputs": [],
   "source": [
    "import numpy as np\n",
    "import matplotlib.pyplot as plt\n",
    "import sys\n",
    "import ipdb"
   ]
  },
  {
   "cell_type": "markdown",
   "metadata": {
    "colab_type": "text",
    "id": "YEO0HbcMUP26"
   },
   "source": [
    "#types and predicates\n",
    "and tests.  You should include tests after every definition...  "
   ]
  },
  {
   "cell_type": "code",
   "execution_count": 19,
   "metadata": {
    "colab": {},
    "colab_type": "code",
    "id": "VDASc2Pe9hFk"
   },
   "outputs": [],
   "source": [
    "#determinant test; return 1 if r is left of line pq, -1 if r right of line pq, 0 if on line pq\n",
    "def detTest(px,py,qx,qy,rx,ry):\n",
    "    D=np.array([[1,px,py],[1,qx,qy],[1,rx,ry]],dtype='i8')\n",
    "    return int(np.sign(np.linalg.det(D)))\n",
    "    \n",
    "#returns true iff pq and rs cross\n",
    "# JSS: does not handle endpoints on segments consistent with perturbation, but not actually used yet. \n",
    "\n",
    "def cross(px,py,qx,qy,rx,ry,sx,sy):\n",
    "    pqr=detTest(px,py,qx,qy,rx,ry)\n",
    "    pqs=detTest(px,py,qx,qy,sx,sy)\n",
    "    if not ((pqr==1 and pqs==-1) or (pqr==-1 and pqs==1)):\n",
    "        return False\n",
    "    rsp=detTest(rx,ry,sx,sy,px,py)\n",
    "    rsq=detTest(rx,ry,sx,sy,qx,qy)\n",
    "    if not ((rsp==1 and rsq==-1) or (rsp==-1 and rsq==1)):\n",
    "        return False\n",
    "    return True"
   ]
  },
  {
   "cell_type": "markdown",
   "metadata": {
    "colab_type": "text",
    "id": "3WHq8PZOQgNk"
   },
   "source": [
    "### tests\n",
    "For example, timing shows that this is about 30 time slower than if you just calculated the numerical value of the determinant and 10 times slower than computing its sign. (Python fuction calls are slow.)  \n",
    "You don't want to do anything about this now, because you want to get it working first, but if you leave the testing here you'll remember that this is a point to speed up, and the tests will help quickly catch any errors you introduce while doing so. "
   ]
  },
  {
   "cell_type": "code",
   "execution_count": 3,
   "metadata": {
    "colab": {
     "base_uri": "https://localhost:8080/",
     "height": 34
    },
    "colab_type": "code",
    "id": "UCIOILeiMBrP",
    "outputId": "fcfddebe-f389-49eb-a005-dd8b1c0b2bf5"
   },
   "outputs": [
    {
     "data": {
      "text/plain": [
       "5.130695595000001"
      ]
     },
     "execution_count": 3,
     "metadata": {},
     "output_type": "execute_result"
    }
   ],
   "source": [
    "import timeit\n",
    "timeit.timeit('for n in range(50): detTest(1,2,3,4,n,5)', setup=\"from __main__ import detTest\", number = 10000)\n"
   ]
  },
  {
   "cell_type": "code",
   "execution_count": 8,
   "metadata": {
    "colab": {
     "base_uri": "https://localhost:8080/",
     "height": 34
    },
    "colab_type": "code",
    "id": "H5JxLfxLHzhd",
    "outputId": "bc652f9e-7411-4ca9-9ff1-54dff54a8078"
   },
   "outputs": [
    {
     "data": {
      "text/plain": [
       "0.1965264059999754"
      ]
     },
     "execution_count": 8,
     "metadata": {
      "tags": []
     },
     "output_type": "execute_result"
    }
   ],
   "source": [
    "def mydet(px,py,qx,qy,rx,ry):\n",
    "  return (qx-px)*(ry-py)-(qy-py)*(rx-px)\n",
    "\n",
    "timeit.timeit('for n in range(50): mydet(1,2,3,4,n,5)', setup=\"from __main__ import mydet\", number = 10000)"
   ]
  },
  {
   "cell_type": "code",
   "execution_count": 9,
   "metadata": {
    "colab": {
     "base_uri": "https://localhost:8080/",
     "height": 34
    },
    "colab_type": "code",
    "id": "OCZ21cOzP2eQ",
    "outputId": "84c26913-0704-4677-f714-705951f6d94c"
   },
   "outputs": [
    {
     "data": {
      "text/plain": [
       "0.5656986039998628"
      ]
     },
     "execution_count": 9,
     "metadata": {
      "tags": []
     },
     "output_type": "execute_result"
    }
   ],
   "source": [
    "timeit.timeit('for n in range(50): sign(mydet(1,2,3,4,n,5))', setup=\"from __main__ import mydet; from numpy import sign\", number = 10000)"
   ]
  },
  {
   "cell_type": "markdown",
   "metadata": {
    "colab_type": "text",
    "id": "1ouDMi7zQ8kY"
   },
   "source": [
    "Quick test for segments with co-linear points. I'm just going to include comments on the expected test results, but I am certain that there are python packages that give more elegant test rigs. "
   ]
  },
  {
   "cell_type": "code",
   "execution_count": 10,
   "metadata": {
    "colab": {
     "base_uri": "https://localhost:8080/",
     "height": 34
    },
    "colab_type": "code",
    "id": "2Vcxn5RZP1Vz",
    "outputId": "bac548a0-0f04-4ffb-ac60-ff9bf67e7582"
   },
   "outputs": [
    {
     "name": "stdout",
     "output_type": "stream",
     "text": [
      "False False False\n"
     ]
    }
   ],
   "source": [
    "# test with 3 or 4 points on a line (currently all False, but some should perhaps be True)\n",
    "print(cross(0,0, 2,2, 1,1, 4,4), cross(0,0, 2,2, 1,0, 3,4), cross(0,0, 2,2, 1,-1, -1,1)) # all print as false"
   ]
  },
  {
   "cell_type": "markdown",
   "metadata": {
    "colab_type": "text",
    "id": "WdsOGSBRqlOt"
   },
   "source": [
    "## Point, segment, and flag types"
   ]
  },
  {
   "cell_type": "code",
   "execution_count": 14,
   "metadata": {
    "colab": {},
    "colab_type": "code",
    "id": "MTxOuMSm9hFo"
   },
   "outputs": [],
   "source": [
    "#class for points\n",
    "class Point:\n",
    "    def __init__(self, x, y):\n",
    "        self.x=x\n",
    "        self.y=y\n",
    "    def plot(self):\n",
    "        plt.scatter(self.x,self.y)\n",
    "        return self\n",
    "        \n",
    "    def prt(self):\n",
    "        print((self.x,self.y))\n",
    "        return self # useful because you can insert prt anywhere...\n",
    "            \n",
    "    def __lt__(self,other):\n",
    "        return self.x<other.x or (self.x==other.x and self.y<other.y)        \n",
    "    def __gt__(self,other):\n",
    "        return self.x>other.x or (self.x==other.x and self.y>other.y)    \n",
    "    def __eq__(self,other):\n",
    "        return self.x==other.x and self.y==other.y    \n",
    "    def __le__(self,other):\n",
    "        return self.x<other.x or (self.x==other.x and self.y<=other.y)    \n",
    "    def __ge__(self,other):\n",
    "        return self.x>other.x or (self.x==other.x and self.y>=other.y)   \n",
    "    def __ne__(self,other):\n",
    "        return not (self==other)\n",
    "\n"
   ]
  },
  {
   "cell_type": "code",
   "execution_count": 15,
   "metadata": {
    "colab": {
     "base_uri": "https://localhost:8080/",
     "height": 34
    },
    "colab_type": "code",
    "id": "wA6csxvMRTdq",
    "outputId": "14cf157e-8e14-42cc-d27d-908554afcb6f"
   },
   "outputs": [
    {
     "name": "stdout",
     "output_type": "stream",
     "text": [
      "True True True\n"
     ]
    }
   ],
   "source": [
    "print(Point(1,2) < Point(1,3), Point(1,2) == Point(1.0,2.0), Point(0,1)<Point(1,2)) # all True"
   ]
  },
  {
   "cell_type": "code",
   "execution_count": 20,
   "metadata": {
    "colab": {},
    "colab_type": "code",
    "id": "P2JHJpCXRLtm"
   },
   "outputs": [],
   "source": [
    "#class for segments \n",
    "#color is 0 for red, 1 for blue\n",
    "RBCOLOR = 'rb'\n",
    "REDBLUE = ['red','blue']\n",
    "\n",
    "#invariant:  p<=q lexicographically\n",
    "class Segment:\n",
    "    def __init__(self,pointA,pointB,color):\n",
    "        if pointA<pointB:\n",
    "            self.p=pointA\n",
    "            self.q=pointB\n",
    "        else:\n",
    "            self.p=pointB\n",
    "            self.q=pointA\n",
    "        self.color=color\n",
    "    \n",
    "    def prt(self):\n",
    "        print((self.p.x,self.p.y), (self.q.x,self.q.y), REDBLUE[self.color])\n",
    "        return self\n",
    "    \n",
    "    def cmpPt(self,p):\n",
    "        return detTest(self.p.x,self.p.y,self.q.x,self.q.y,p.x,p.y)\n",
    "    \n",
    "    # JSS: does not handle colinear case or crossing cases\n",
    "    def cmp(self,other):\n",
    "        assert self.color==other.color  # assumes segments are the same color, asserting it\n",
    "        sp=other.cmpPt(self.p)\n",
    "        sq=other.cmpPt(self.q)\n",
    "        if sp*sq<0:\n",
    "            sp=self.cmpPt(other.p)\n",
    "            sq=self.cmpPt(other.q)\n",
    "            if sp==0:\n",
    "                return sq\n",
    "            return sp\n",
    "        if sp==0:\n",
    "            return sq\n",
    "        return sp\n",
    "    \n",
    "  #  def cross(self,segB):\n",
    "  #      return cross(self.p.x,self.p.y,self.q.x,self.q.y,segB.p.x,segB.p.y,segB.q.x,segB.q.y)\n",
    "    \n",
    "    def equals(self,other):\n",
    "        return self.p==other.p and self.q==other.q and self.color==other.color\n",
    "          \n",
    "    def slope(self):\n",
    "        if (self.q.x-self.p.x)==0: # JSS: IEEE 754 specifies that division by zero gives +/-Inf, so this test is not needed. \n",
    "            return float('inf') \n",
    "        else:\n",
    "            return (self.q.y-self.p.y)/(self.q.x-self.p.x)\n",
    "\n",
    "    def plot(self):\n",
    "         plt.plot([self.p.x,self.q.x],[self.p.y,self.q.y],RBCOLOR[self.color])\n",
    "\n",
    "\n",
    "    #ordered by aboveness (no intersections)\n",
    "    #should only compare same colored segs\n",
    "    def __lt__(self,other):\n",
    "        return self.cmp(other)<0\n",
    "    def __gt__(self,other):\n",
    "        return self.cmp(other)>0\n",
    "    def __eq__(self,other): # JSS: this is not an equality test but a colinearity test. Ignores color.\n",
    "        if other==None:\n",
    "            return False\n",
    "        return self.cmp(other)==0\n",
    "    def __le__(self,other):\n",
    "        return self.cmp(other)<=0\n",
    "    def __ge__(self,other):\n",
    "        return self.cmp(other)>=0\n",
    "    def __ne__(self,other):\n",
    "        return not self==other\n",
    "    \n",
    "            \n",
    "\n"
   ]
  },
  {
   "cell_type": "code",
   "execution_count": 21,
   "metadata": {},
   "outputs": [
    {
     "name": "stdout",
     "output_type": "stream",
     "text": [
      "False\n",
      "1 -1 -1 -1\n"
     ]
    }
   ],
   "source": [
    "#testing insert, delete, split\n",
    "def makeSeg(px,py,qx,qy,col):\n",
    "    return Segment(Point(px,py),Point(qx,qy),col)\n",
    "\n",
    "def makeFlag(seg,typ):\n",
    "    if typ==0:\n",
    "        return Flag(seg,seg.p)\n",
    "    return Flag(seg,seg.q)\n",
    "\n",
    "#SM: segment comparison bug\n",
    "a=makeSeg(-10,10,10,10,1)\n",
    "b=makeSeg(-3,0,0,3,1)\n",
    "print(a>b)\n",
    "print(b.cmpPt(a.p),b.cmpPt(a.q),a.cmpPt(b.p),a.cmpPt(b.q))"
   ]
  },
  {
   "cell_type": "code",
   "execution_count": 14,
   "metadata": {
    "colab": {
     "base_uri": "https://localhost:8080/",
     "height": 137
    },
    "colab_type": "code",
    "id": "sk9O0VTKTFJo",
    "outputId": "4b576cba-3872-4cfd-cbd8-802e2c71ae6b"
   },
   "outputs": [
    {
     "name": "stdout",
     "output_type": "stream",
     "text": [
      "(0, 0) (2, 2) red\n",
      "(1, 1) (4, 4) blue\n",
      "(3, 3) (4, 4) red\n",
      "(0, 3) (2, 2) red\n",
      "(0, 2) (4, 4) blue\n",
      "True\n",
      "True True\n"
     ]
    }
   ],
   "source": [
    "s0022 = Segment(Point(0,0), Point(2,2), 0).prt() # red\n",
    "s4411 = Segment(Point(4,4), Point(1,1), 1).prt() # blue\n",
    "s3344 = Segment(Point(3,3), Point(4,4), 0).prt() # red\n",
    "s0322 = Segment(Point(0,3), Point(2,2), 0).prt() # red\n",
    "s0244 = Segment(Point(0,2), Point(4,4), 1).prt() # blue\n",
    "print(s0022==s3344) # should not be true #SM: tests for collinearity\n",
    "print(s0244 > s4411, s0322>s0022 ) # should be true\n",
    "# s3344 == s4411# can't test these of opposite color"
   ]
  },
  {
   "cell_type": "code",
   "execution_count": 6,
   "metadata": {
    "colab": {},
    "colab_type": "code",
    "id": "A6ZVTUl1Vjht"
   },
   "outputs": [],
   "source": [
    "#flags are made from a segment and a endpoint of the segment\n",
    "#0 is for startpt, 1 is for endpt\n",
    "class Flag:\n",
    "    def __init__(self, segment, endpoint):\n",
    "        self.seg=segment\n",
    "        self.pt=endpoint\n",
    "        if self.pt==self.seg.p:\n",
    "            self.type=0\n",
    "        elif self.pt==self.seg.q:\n",
    "            self.type=1\n",
    "        else:\n",
    "            raise NameError('point is not an endpoint of segment')    \n",
    "            \n",
    "    def prt(self):\n",
    "        self.pt.prt()\n",
    "        self.seg.prt()\n",
    "        return self\n",
    "    \n",
    "    def slope(self):\n",
    "        return self.seg.slope()\n",
    "    \n",
    "    #assume: segments are broken so that no endpoint of one lies inside another.\n",
    "    #        flags are compared only with segments that overlap the interval before (for start flags)\n",
    "    #              or after (for terminal flags) the endpoint.  \n",
    "    def cmpSeg(self,seg):\n",
    "        sign=seg.cmpPt(self.pt)\n",
    "        if sign<0:\n",
    "            return -1\n",
    "        elif sign>0:\n",
    "            return 1\n",
    "        else: # depends on overlap assumption.\n",
    "            if self.slope()==seg.slope():\n",
    "                return self.seg.color-seg.color # depends on color = 0 or 1 to give -1, 0, or 1\n",
    "            else:\n",
    "                slope=self.slope()-seg.slope()\n",
    "                return 1 if ((slope>0) == (self.type==0)) else -1\n",
    "              \n",
    "#JSS: need a complete set of test cases for this cmp function\n",
    "    def cmp(self, flagB):\n",
    "        if self.pt<(flagB.pt):\n",
    "            return -1\n",
    "        elif self.pt>(flagB.pt):\n",
    "            return 1\n",
    "        else: # process all terminals before all starts\n",
    "            if self.type != flagB.type:\n",
    "                return flagB.type - self.type # -1 or 1\n",
    "            else: # process segs top to bottom\n",
    "                sign=1\n",
    "                if self.type==1:\n",
    "                    sign=-1\n",
    "                slopeDiff=sign*(self.seg.slope()-flagB.seg.slope())\n",
    "                if slopeDiff<0:\n",
    "                    return -1\n",
    "                elif slopeDiff>0:\n",
    "                    return 1\n",
    "                else: # process (blue above red) #  SM: process \"below\" first\n",
    "                    return self.seg.color-flagB.seg.color\n",
    "\n",
    "               \n",
    "    def __lt__(self,other):\n",
    "        return self.cmp(other)<0\n",
    "    def __gt__(self,other):\n",
    "        return self.cmp(other)>0\n",
    "    def __eq__(self,other):\n",
    "        return self.cmp(other)==0\n",
    "    def __le__(self,other):\n",
    "        return self.cmp(other)<=0\n",
    "    def __ge__(self,other):\n",
    "        return self.cmp(other)>=0\n",
    "    def __ne__(self,other):\n",
    "        return self.cmp(other)!=0 "
   ]
  },
  {
   "cell_type": "code",
   "execution_count": 16,
   "metadata": {
    "colab": {
     "base_uri": "https://localhost:8080/",
     "height": 258
    },
    "colab_type": "code",
    "id": "rPHQ6S3oZz3k",
    "outputId": "5154a6cc-53d2-4a4f-ecc7-ed9a819d0679"
   },
   "outputs": [
    {
     "name": "stdout",
     "output_type": "stream",
     "text": [
      "(4, 4)\n",
      "(1, 1) (4, 4) blue\n",
      "(4, 4)\n",
      "(3, 3) (4, 4) red\n",
      "(4, 4)\n",
      "(0, 2) (4, 4) blue\n",
      "(0, 0)\n",
      "(0, 0) (2, 2) red\n",
      "(1, 1)\n",
      "(1, 1) (4, 4) blue\n",
      "f002<f441 -1\n",
      "True\n",
      "f441<f442 -1 and f442>f443 1 and f441>f443 1\n",
      "True\n"
     ]
    }
   ],
   "source": [
    "f441 = Flag(s4411, s4411.q).prt()\n",
    "f443 = Flag(s3344, s3344.q).prt()\n",
    "f442 = Flag(s0244, s0244.q).prt()\n",
    "f002 = Flag(s0022, s0022.p).prt()\n",
    "f114 = Flag(s4411, s4411.p).prt()\n",
    "print('f002<f441', f002.cmp(f441))\n",
    "print(f002<f441) # true\n",
    "print('f441<f442', f441.cmp(f442), 'and f442>f443', f442.cmp(f443), 'and f441>f443', f441.cmp(f443))\n",
    "print(f441<f442 and f442>f443 and f441>f443) # true  #SM: s4411 automatically changed to s4411"
   ]
  },
  {
   "cell_type": "markdown",
   "metadata": {
    "colab_type": "text",
    "id": "N-GmD5disMnI"
   },
   "source": [
    "# Splay tree\n",
    "We use a splay tree, implemented in the following code for `Node` and for `Tree`.  "
   ]
  },
  {
   "cell_type": "markdown",
   "metadata": {
    "colab_type": "text",
    "id": "Eukhs_TTr-3k"
   },
   "source": [
    "## Node \n",
    "A node has a `val` (which will be segment in our application), and pointers to its `parent`, and `left` & `right` children, possibly `None`.  "
   ]
  },
  {
   "cell_type": "markdown",
   "metadata": {
    "colab_type": "text",
    "id": "BbjOrtWSsR_M"
   },
   "source": [
    "## Tree\n",
    "The tree holds the `root` node and the `min` and `max` vals.\n",
    "Only the root has `parent=None`.   This is actually violated by `split` and before `join`.  \n",
    "Our trees are also in a doubly linked list (`abv` and `bel`) that alternates colors. (This is perhaps overspecializing the tree. The way you implement maintenance for `min` and `max`, you could make a bundle class that has a tree.)  I see that you have abv/bel in your bundle structure, so I'm taking them and color"
   ]
  },
  {
   "cell_type": "code",
   "execution_count": 13,
   "metadata": {
    "colab": {},
    "colab_type": "code",
    "id": "ZKN9x-DFgvu8"
   },
   "outputs": [],
   "source": [
    "#warning: functions in Node class do not splay\n",
    "class Tree:\n",
    "    #SM: nested Node class inside Tree.\n",
    "    class Node:\n",
    "        def __init__(self,seg, parent=None, left=None, right=None):\n",
    "            self.seg=seg\n",
    "            self.parent=parent\n",
    "            self.left=left\n",
    "            self.right=right\n",
    "\n",
    "        def prt(self): # print node alone\n",
    "            print('[Node:', self.seg, self.parent, self.left, self.right, ']' )\n",
    "            return self\n",
    "        \n",
    "        #input: node\n",
    "        #output: minimum node in its subtree\n",
    "        def findMin(self):\n",
    "            if self.left!=None:\n",
    "                return self.left.findMin()\n",
    "            else:\n",
    "                return self\n",
    "\n",
    "        def findMax(self):\n",
    "            if self.right!=None:\n",
    "                return self.right.findMax()\n",
    "            else:\n",
    "                return self\n",
    "            \n",
    "        # find the predecessor of a given node in the tree\n",
    "        def predecessor(self):\n",
    "            # if the left subtree is not null,\n",
    "            # the predecessor is the rightmost node in the \n",
    "            # left subtree\n",
    "            x=self\n",
    "            if x.left != None:\n",
    "                y=x.left.findMax()\n",
    "                return y\n",
    "\n",
    "            y = x.parent\n",
    "            while y != None and x == y.left:\n",
    "                x = y\n",
    "                y = y.parent\n",
    "            return y\n",
    "    \n",
    "    def __init__(self,treeNode,minSeg=None,maxSeg=None):\n",
    "        #SM: moved color, abv, bel to Bundle,\n",
    "        self.root=treeNode\n",
    "        if minSeg!=None:\n",
    "            self.min=minSeg\n",
    "        else:\n",
    "            self.min=self.root.findMin().seg #SM: no splay\n",
    "        \n",
    "        if maxSeg!=None:\n",
    "            self.max=maxSeg\n",
    "        else:\n",
    "            self.max=self.root.findMax().seg\n",
    "        \n",
    "    # this is a tree operation, because it may change root, as well as a node.\n",
    "    # Since rotation is used only in splay, however, it is not required to maintain the root here; splay could reset it.\n",
    "    def __left_rotate(self, x):\n",
    "        y = x.right\n",
    "        x.right = y.left\n",
    "        if y.left != None:\n",
    "            y.left.parent = x\n",
    "\n",
    "        y.parent = x.parent\n",
    "        if x.parent == None:\n",
    "            self.root = y\n",
    "        elif x == x.parent.left:\n",
    "            x.parent.left = y\n",
    "        else:\n",
    "            x.parent.right = y\n",
    "        y.left = x\n",
    "        x.parent = y\n",
    "\n",
    "    # rotate right at node x\n",
    "    def __right_rotate(self, x):\n",
    "        y = x.left\n",
    "        x.left = y.right\n",
    "        if y.right != None:\n",
    "            y.right.parent = x\n",
    "        \n",
    "        y.parent = x.parent;\n",
    "        if x.parent == None:\n",
    "            self.root = y\n",
    "        elif x == x.parent.right:\n",
    "            x.parent.right = y\n",
    "        else:\n",
    "            x.parent.left = y\n",
    "        y.right = x\n",
    "        x.parent = y\n",
    "    \n",
    "    # operations on a tree node\n",
    "    # Splaying node x move x to the root of the tree\n",
    "    def __splay(self, x):\n",
    "        while x.parent != None:\n",
    "            if x.parent.parent == None:\n",
    "                if x == x.parent.left:\n",
    "                    # zig rotation\n",
    "                    self.__right_rotate(x.parent)\n",
    "                else:\n",
    "                    # zag rotation\n",
    "                    self.__left_rotate(x.parent)\n",
    "            elif x == x.parent.left and x.parent == x.parent.parent.left:\n",
    "                # zig-zig rotation\n",
    "                self.__right_rotate(x.parent.parent)\n",
    "                self.__right_rotate(x.parent)\n",
    "            elif x == x.parent.right and x.parent == x.parent.parent.right:\n",
    "                # zag-zag rotation\n",
    "                self.__left_rotate(x.parent.parent)\n",
    "                self.__left_rotate(x.parent)\n",
    "            elif x == x.parent.right and x.parent == x.parent.parent.left:\n",
    "                # zig-zag rotation\n",
    "                self.__left_rotate(x.parent)\n",
    "                self.__right_rotate(x.parent)\n",
    "            else:\n",
    "                # zag-zig rotation\n",
    "                self.__right_rotate(x.parent)\n",
    "                self.__left_rotate(x.parent)\n",
    "        return x # useful for testing...\n",
    "      \n",
    "    # insert a segue into the tree\n",
    "    def insert(self, seg):\n",
    "        y = None\n",
    "        x = self.root\n",
    "\n",
    "        while x != None:\n",
    "            y = x\n",
    "            if seg < x.seg:\n",
    "                x = x.left\n",
    "            else:\n",
    "                x = x.right\n",
    "        \n",
    "        node = Tree.Node(seg, y)\n",
    "        if y == None: \n",
    "            self.root = node\n",
    "        elif node.seg < y.seg:\n",
    "            y.left = node\n",
    "        else:\n",
    "            y.right = node\n",
    "        # splay the node\n",
    "        self.__splay(node)\n",
    "        \n",
    "        if seg>self.max:\n",
    "            self.max=seg\n",
    "        if seg<self.min:\n",
    "            self.min=seg\n",
    "            \n",
    "        assert self.root==node\n",
    "        return seg\n",
    "      \n",
    "\n",
    "    #input: root node it is searching in, segue\n",
    "    #output: node in tree containing the seg\n",
    "    def __findHelper(self,node,seg):\n",
    "        if seg<node.seg:\n",
    "            if node.left==None:\n",
    "                raise NameError(\"seg not in tree\")\n",
    "            return self.__findHelper(node.left,seg)\n",
    "        elif seg>node.seg:\n",
    "            if node.right==None:\n",
    "                raise NameError(\"seg not in tree\")\n",
    "            return self.__findHelper(node.right,seg)\n",
    "        else:\n",
    "            return node\n",
    "    \n",
    "    #input:segue\n",
    "    #output: node containing the seg\n",
    "    def find(self,seg):\n",
    "        if self.root==None:\n",
    "            raise NameError(\"empty tree\")\n",
    "        node=self.__findHelper(self.root,seg)\n",
    "        self.__splay(node)\n",
    "        assert self.root==node\n",
    "        return node\n",
    "    \n",
    "    def contains(self,seg):\n",
    "        try:\n",
    "            self.find(seg)\n",
    "            return True\n",
    "        except NameError:\n",
    "            return False\n",
    "    \n",
    "    #SM: __joinNodes and __splitNode do not change self.max and self.min; The functions that use them change them\n",
    "    \n",
    "    #SM:changed to joinNodes\n",
    "    #input: node2, everything in self is smaller than the tree of node\n",
    "    #output: one node that is the merge of them\n",
    "    def __joinNodes(self,node2):\n",
    "        if self.root==None:\n",
    "            self.root=node2\n",
    "            return self.root\n",
    "        if node2==None:\n",
    "            return self.root\n",
    "        \n",
    "        node=self.root.findMax()\n",
    "        self.__splay(node)        #needs splaying\n",
    "        assert self.root==node\n",
    "        node.right=node2\n",
    "        node2.parent=node\n",
    "        return node\n",
    "    \n",
    "    #input: segue of node to split at; must be in the tree. \n",
    "    #output: root nodes of two trees, everything in node1 is less than or equal to node; subtree of rightroot is greater\n",
    "    #found node is placed at the root of tree, with no right child.\n",
    "    def __splitNode(self,seg):\n",
    "        node=self.find(seg)   #find the node and splay to top\n",
    "        assert self.root==node\n",
    "        if node.right!=None:\n",
    "            rightroot=node.right\n",
    "            rightroot.parent=None\n",
    "        else:\n",
    "            rightroot=None\n",
    "        node.right=None\n",
    "        return [node,rightroot]\n",
    "\n",
    "    #input:seg\n",
    "    #output:self if successfully deleted\n",
    "    def delete(self,seg):\n",
    "        [segnode,rightroot]=self.__splitNode(seg)\n",
    "        if segnode.left != None:\n",
    "            self.root=segnode.left\n",
    "            self.root.parent=None\n",
    "            self.__joinNodes(rightroot)\n",
    "        elif segnode.left==None and rightroot!=None: \n",
    "            self.root=rightroot\n",
    "        elif segnode.left==None and rightroot==None:\n",
    "            self.max=None\n",
    "            self.min=None\n",
    "            return self\n",
    "        \n",
    "        if seg==self.max:\n",
    "            self.max=self.root.findMax().seg #SM: no splays\n",
    "        if seg==self.min:\n",
    "            self.min=self.root.findMin().seg\n",
    "        return self\n",
    "        \n",
    "        \n",
    "    #input: other tree, self<other, no empty trees\n",
    "    #output: other tree merged into self\n",
    "    #SM: change other tree to have same seg as self\n",
    "    def joinTrees(self,other):\n",
    "        assert self.max<other.min\n",
    "        node=self.__joinNodes(other.root)\n",
    "        self.max=other.max\n",
    "        return self\n",
    "        \n",
    "    #input: seg to make the split\n",
    "    #output: two trees\n",
    "    def splitTree(self,seg):\n",
    "        [node1,node2]=self.__splitNode(seg)      \n",
    "        return [Tree(node1,self.min,seg),Tree(node2,None,self.max)]\n",
    "    \n",
    "    def __in_order_helper(self, node, segList):\n",
    "        if node != None:\n",
    "            self.__in_order_helper(node.left,segList)\n",
    "            segList.append(node.seg)\n",
    "            self.__in_order_helper(node.right,segList)\n",
    "    \n",
    "    # In-Order traversal\n",
    "    # Left Subtree -> Node -> Right Subtree\n",
    "    def inorder(self):\n",
    "        segList=[]\n",
    "        self.__in_order_helper(self.root,segList)\n",
    "        return segList\n",
    "        \n",
    "    def __print_helper(self, currPtr, indent, last):\n",
    "            # print the tree structure on the screen\n",
    "            if currPtr != None:\n",
    "                sys.stdout.write(indent)\n",
    "                if last:\n",
    "                    sys.stdout.write(\"└──\")\n",
    "                    indent += \"     \"\n",
    "                else:\n",
    "                    sys.stdout.write(\"├──\")\n",
    "                    indent += \"|    \"\n",
    "\n",
    "                print (currPtr.seg)\n",
    "\n",
    "                self.__print_helper(currPtr.right, indent, False)\n",
    "                self.__print_helper(currPtr.left, indent, True)\n",
    "\n",
    "    # print the tree structure on the screen\n",
    "    def pprint(self):\n",
    "        if self.root != None:\n",
    "            #if self.color == None:\n",
    "              print('Tree ', self.min, self.root.seg, self.max)\n",
    "            #else:\n",
    "            #  print(REDBLUE[self.color], 'Tree ', self.min, self.root.seg, self.max)\n",
    "        self.__print_helper(self.root, \"\", True)"
   ]
  },
  {
   "cell_type": "code",
   "execution_count": 15,
   "metadata": {
    "colab": {
     "base_uri": "https://localhost:8080/",
     "height": 604
    },
    "colab_type": "code",
    "id": "n0gkTQQXmfiG",
    "outputId": "041b00e5-96e9-4075-a712-c70fa5f38b69"
   },
   "outputs": [
    {
     "name": "stdout",
     "output_type": "stream",
     "text": [
      "[Node: 1 None None None ]\n",
      "Tree  0 4 5\n",
      "└──4\n",
      "     ├──5\n",
      "     └──3\n",
      "          └──0\n",
      "Tree  0 1 5\n",
      "└──1\n",
      "     ├──4\n",
      "     |    ├──5\n",
      "     |    └──3\n",
      "     └──0\n",
      "Tree  0 2 5\n",
      "└──2\n",
      "     ├──4\n",
      "     |    ├──5\n",
      "     |    └──3\n",
      "     └──1\n",
      "          └──0\n",
      "Tree  1 1 5\n",
      "└──1\n",
      "     ├──2\n",
      "     |    ├──4\n",
      "     |    |    ├──5\n",
      "     |    |    └──3\n",
      "Tree  2 2 5\n",
      "└──2\n",
      "     ├──4\n",
      "     |    ├──5\n",
      "     |    └──3\n",
      "Tree  2 4 4\n",
      "└──4\n",
      "     └──2\n",
      "          ├──3\n"
     ]
    }
   ],
   "source": [
    "nd = Tree.Node(1)\n",
    "nd.prt()\n",
    "t = Tree(Tree.Node(0))\n",
    "t.insert(3)\n",
    "t.insert(5)\n",
    "t.insert(4)\n",
    "t.pprint()\n",
    "t.insert(1)\n",
    "t.pprint()\n",
    "t.find(5)\n",
    "t.insert(2)\n",
    "t.pprint()\n",
    "t.delete(0)\n",
    "t.pprint()\n",
    "t.delete(1)\n",
    "t.pprint()\n",
    "t.delete(5)\n",
    "t.pprint()"
   ]
  },
  {
   "cell_type": "code",
   "execution_count": 12,
   "metadata": {
    "colab": {
     "base_uri": "https://localhost:8080/",
     "height": 569
    },
    "colab_type": "code",
    "id": "Ut495_RTlKpG",
    "outputId": "e2d2d320-1ff7-4579-a747-a0f6aba65a0e"
   },
   "outputs": [
    {
     "name": "stdout",
     "output_type": "stream",
     "text": [
      "[5, 33, 44, 67, 112, 143, 150, 165]\n",
      "Tree  5 150 165\n",
      "└──150\n",
      "     ├──165\n",
      "     └──143\n",
      "          └──112\n",
      "               └──33\n",
      "                    ├──67\n",
      "                    |    └──44\n",
      "                    └──5\n",
      "Tree  5 143 143\n",
      "└──143\n",
      "     └──112\n",
      "          └──33\n",
      "               ├──67\n",
      "               |    └──44\n",
      "               └──5\n",
      "Tree  150 150 165\n",
      "└──150\n",
      "     ├──165\n",
      "Tree  5 143 165\n",
      "└──143\n",
      "     ├──150\n",
      "     |    ├──165\n",
      "     └──112\n",
      "          └──33\n",
      "               ├──67\n",
      "               |    └──44\n",
      "               └──5\n",
      "Tree  150 150 165\n",
      "└──150\n",
      "     ├──165\n"
     ]
    }
   ],
   "source": [
    "tree=Tree(Tree.Node(33))\n",
    "tree.insert(67)\n",
    "tree.insert(44)\n",
    "tree.insert(5)\n",
    "tree.insert(112)\n",
    "tree.insert(143)\n",
    "tree.insert(165)\n",
    "tree.insert(150)\n",
    "l=tree.inorder()\n",
    "print(l)\n",
    "tree.pprint()\n",
    "\n",
    "[treeA,treeB]=tree.splitTree(143)\n",
    "treeA.pprint()\n",
    "treeB.pprint()\n",
    "treeA.joinTrees(treeB)\n",
    "treeA.pprint()\n",
    "treeB.pprint()"
   ]
  },
  {
   "cell_type": "code",
   "execution_count": 13,
   "metadata": {
    "colab": {
     "base_uri": "https://localhost:8080/",
     "height": 68
    },
    "colab_type": "code",
    "id": "vqlw4tLNlKpW",
    "outputId": "922a5edf-d508-4f15-99d0-58fa18ac475e"
   },
   "outputs": [
    {
     "name": "stdout",
     "output_type": "stream",
     "text": [
      "Tree  1 1 3\n",
      "└──1\n",
      "     ├──3\n"
     ]
    }
   ],
   "source": [
    "tree=Tree(Tree.Node(2))\n",
    "tree.insert(1)\n",
    "tree.insert(3)\n",
    "tree.delete(2)\n",
    "tree.pprint()"
   ]
  },
  {
   "cell_type": "code",
   "execution_count": 121,
   "metadata": {
    "colab": {},
    "colab_type": "code",
    "id": "YJkMZnzXlKpk"
   },
   "outputs": [],
   "source": [
    "#SM:reworked bundle class: self.tree, abv, bel are all pointers. color is constant\n",
    "#all the abv bel changes are done in BundleList\n",
    "class Bundle:\n",
    "    def __init__(self,tree=None,bel=None,abv=None):\n",
    "        self.tree=tree\n",
    "        if tree == None:\n",
    "          self.color = None\n",
    "        else:\n",
    "          self.color = tree.root.seg.color\n",
    "        self.bel=bel\n",
    "        self.abv=abv\n",
    "    \n",
    "    #set fields to None\n",
    "    def setNone(self):\n",
    "        self.tree=None\n",
    "        self.abv=None\n",
    "        self.bel=None\n",
    "        self.color=None\n",
    "        return self\n",
    "    \n",
    "    def __flagTestHelper(self,node,flag):\n",
    "        cmp=flag.cmpSeg(node.seg)\n",
    "        if cmp<0:\n",
    "            if node.left==None:\n",
    "                return [node,-1]\n",
    "            return self.__flagTestHelper(node.left,flag)\n",
    "        elif cmp>0:\n",
    "            if node.right==None:\n",
    "                return [node,1]\n",
    "            return self.__flagTestHelper(node.right,flag)\n",
    "        else:\n",
    "            return [node,0]\n",
    "    \n",
    "    #input: flag\n",
    "    #output: a node directly above or below it with indication (0:flag on seg, -1:flag below, 1:flag above)\n",
    "    def flagTest(self,flag):\n",
    "        return self.__flagTestHelper(self.tree.root,flag)\n",
    "    \n",
    "    def insert(self,seg):\n",
    "        assert seg.color==self.color\n",
    "        return self.tree.insert(seg)\n",
    "    \n",
    "    def contains(self,seg):\n",
    "        return self.tree.contains(seg)\n",
    "    def max(self):\n",
    "        return self.tree.max\n",
    "    def min(self):\n",
    "        return self.tree.min\n",
    "    def color(self):\n",
    "        return self.tree.color\n",
    "    def isEmpty(self):\n",
    "        return self.tree==None and self.color==None and self.abv==None and self.bel==None\n",
    "    \n",
    "    def plot(self):\n",
    "        l=self.tree.inorder()\n",
    "        for i in range(len(l)):\n",
    "            l[i].prt()\n",
    "            l[i].plot()\n",
    "        print(' ')\n",
    "        plt.axis('equal')\n",
    "    \n",
    "    #only for comparing bundles of opposite color, ordering determined by the ordering in the bundleList\n",
    "    def __lt__(self,other):\n",
    "        assert self.color!=other.color\n",
    "        if self.bel!=None:\n",
    "            return self.bel.max()<other.max()\n",
    "        else:\n",
    "            return self.abv.max()<=other.max()\n",
    "    def __gt__(self,other):\n",
    "        assert self.color!=other.color\n",
    "        if self.abv!=None:\n",
    "            return self.abv.max()>other.max()\n",
    "        else:\n",
    "            return self.bel.max()>=other.max()"
   ]
  },
  {
   "cell_type": "code",
   "execution_count": 9,
   "metadata": {
    "colab": {
     "base_uri": "https://localhost:8080/",
     "height": 320
    },
    "colab_type": "code",
    "id": "sqXvveOBlKpq",
    "outputId": "1038e937-352e-4610-96d4-2ca6868ff4be"
   },
   "outputs": [
    {
     "ename": "NameError",
     "evalue": "name 'Node' is not defined",
     "output_type": "error",
     "traceback": [
      "\u001b[1;31m---------------------------------------------------------------------------\u001b[0m",
      "\u001b[1;31mNameError\u001b[0m                                 Traceback (most recent call last)",
      "\u001b[1;32m<ipython-input-9-597b0ac6a3e1>\u001b[0m in \u001b[0;36m<module>\u001b[1;34m\u001b[0m\n\u001b[0;32m     11\u001b[0m \u001b[0mr0045\u001b[0m\u001b[1;33m=\u001b[0m\u001b[0mmakeSeg\u001b[0m\u001b[1;33m(\u001b[0m\u001b[1;36m0\u001b[0m\u001b[1;33m,\u001b[0m\u001b[1;36m0\u001b[0m\u001b[1;33m,\u001b[0m\u001b[1;36m4\u001b[0m\u001b[1;33m,\u001b[0m\u001b[1;36m5\u001b[0m\u001b[1;33m,\u001b[0m\u001b[1;36m0\u001b[0m\u001b[1;33m)\u001b[0m\u001b[1;33m\u001b[0m\u001b[1;33m\u001b[0m\u001b[0m\n\u001b[0;32m     12\u001b[0m \u001b[0mr1044\u001b[0m\u001b[1;33m=\u001b[0m\u001b[0mmakeSeg\u001b[0m\u001b[1;33m(\u001b[0m\u001b[1;36m1\u001b[0m\u001b[1;33m,\u001b[0m\u001b[1;36m0\u001b[0m\u001b[1;33m,\u001b[0m\u001b[1;36m4\u001b[0m\u001b[1;33m,\u001b[0m\u001b[1;36m4\u001b[0m\u001b[1;33m,\u001b[0m\u001b[1;36m0\u001b[0m\u001b[1;33m)\u001b[0m\u001b[1;33m\u001b[0m\u001b[1;33m\u001b[0m\u001b[0m\n\u001b[1;32m---> 13\u001b[1;33m \u001b[0mtree\u001b[0m\u001b[1;33m=\u001b[0m\u001b[0mTree\u001b[0m\u001b[1;33m(\u001b[0m\u001b[0mNode\u001b[0m\u001b[1;33m(\u001b[0m\u001b[0mr0055\u001b[0m\u001b[1;33m)\u001b[0m\u001b[1;33m)\u001b[0m\u001b[1;33m\u001b[0m\u001b[1;33m\u001b[0m\u001b[0m\n\u001b[0m\u001b[0;32m     14\u001b[0m \u001b[0mtree\u001b[0m\u001b[1;33m.\u001b[0m\u001b[0minsert\u001b[0m\u001b[1;33m(\u001b[0m\u001b[0mr0045\u001b[0m\u001b[1;33m)\u001b[0m\u001b[1;33m\u001b[0m\u001b[1;33m\u001b[0m\u001b[0m\n\u001b[0;32m     15\u001b[0m \u001b[0mtree\u001b[0m\u001b[1;33m.\u001b[0m\u001b[0minsert\u001b[0m\u001b[1;33m(\u001b[0m\u001b[0mr1044\u001b[0m\u001b[1;33m)\u001b[0m\u001b[1;33m\u001b[0m\u001b[1;33m\u001b[0m\u001b[0m\n",
      "\u001b[1;31mNameError\u001b[0m: name 'Node' is not defined"
     ]
    }
   ],
   "source": [
    "r0055=makeSeg(0,0,5,5,0)\n",
    "r0045=makeSeg(0,0,4,5,0)\n",
    "r1044=makeSeg(1,0,4,4,0)\n",
    "tree=Tree(Node(r0055))\n",
    "tree.insert(r0045)\n",
    "tree.insert(r1044)\n",
    "bundle=Bundle(tree)\n",
    "#bundle.plot()\n",
    "#bundle.delete(r1044)\n",
    "#bundle.plot()\n",
    "\n",
    "r1044t=makeFlag(r1044,0)\n",
    "[b1,b2]=bundle.split(r1044t,0)\n",
    "b2.plot()"
   ]
  },
  {
   "cell_type": "code",
   "execution_count": 10,
   "metadata": {
    "colab": {
     "base_uri": "https://localhost:8080/",
     "height": 372
    },
    "colab_type": "code",
    "id": "M3yLlIx3lKp3",
    "outputId": "c2c1c003-ba81-4fa3-d441-2927cebd35f0",
    "scrolled": true
   },
   "outputs": [
    {
     "ename": "NameError",
     "evalue": "name 'Node' is not defined",
     "output_type": "error",
     "traceback": [
      "\u001b[1;31m---------------------------------------------------------------------------\u001b[0m",
      "\u001b[1;31mNameError\u001b[0m                                 Traceback (most recent call last)",
      "\u001b[1;32m<ipython-input-10-c2d232adbd3e>\u001b[0m in \u001b[0;36m<module>\u001b[1;34m\u001b[0m\n\u001b[0;32m     16\u001b[0m \u001b[1;33m\u001b[0m\u001b[0m\n\u001b[0;32m     17\u001b[0m \u001b[1;33m\u001b[0m\u001b[0m\n\u001b[1;32m---> 18\u001b[1;33m \u001b[0ma\u001b[0m\u001b[1;33m=\u001b[0m\u001b[0mmakeSegBundle\u001b[0m\u001b[1;33m(\u001b[0m\u001b[1;36m1\u001b[0m\u001b[1;33m,\u001b[0m\u001b[1;36m1\u001b[0m\u001b[1;33m,\u001b[0m\u001b[1;36m2\u001b[0m\u001b[1;33m,\u001b[0m\u001b[1;36m2\u001b[0m\u001b[1;33m,\u001b[0m\u001b[1;36m0\u001b[0m\u001b[1;33m)\u001b[0m\u001b[1;33m\u001b[0m\u001b[1;33m\u001b[0m\u001b[0m\n\u001b[0m\u001b[0;32m     19\u001b[0m \u001b[0ma\u001b[0m\u001b[1;33m.\u001b[0m\u001b[0mbel\u001b[0m\u001b[1;33m=\u001b[0m\u001b[0mmakeSegBundle\u001b[0m\u001b[1;33m(\u001b[0m\u001b[1;36m0\u001b[0m\u001b[1;33m,\u001b[0m\u001b[1;36m0\u001b[0m\u001b[1;33m,\u001b[0m\u001b[1;36m1\u001b[0m\u001b[1;33m,\u001b[0m\u001b[1;36m1\u001b[0m\u001b[1;33m,\u001b[0m\u001b[1;36m0\u001b[0m\u001b[1;33m)\u001b[0m\u001b[1;33m\u001b[0m\u001b[1;33m\u001b[0m\u001b[0m\n\u001b[0;32m     20\u001b[0m \u001b[1;33m\u001b[0m\u001b[0m\n",
      "\u001b[1;32m<ipython-input-10-c2d232adbd3e>\u001b[0m in \u001b[0;36mmakeSegBundle\u001b[1;34m(px, py, qx, qy, col)\u001b[0m\n\u001b[0;32m      5\u001b[0m \u001b[1;32mdef\u001b[0m \u001b[0mmakeSegBundle\u001b[0m\u001b[1;33m(\u001b[0m\u001b[0mpx\u001b[0m\u001b[1;33m,\u001b[0m\u001b[0mpy\u001b[0m\u001b[1;33m,\u001b[0m\u001b[0mqx\u001b[0m\u001b[1;33m,\u001b[0m\u001b[0mqy\u001b[0m\u001b[1;33m,\u001b[0m\u001b[0mcol\u001b[0m\u001b[1;33m)\u001b[0m\u001b[1;33m:\u001b[0m\u001b[1;33m\u001b[0m\u001b[1;33m\u001b[0m\u001b[0m\n\u001b[0;32m      6\u001b[0m     \u001b[0mseg\u001b[0m\u001b[1;33m=\u001b[0m\u001b[0mSegment\u001b[0m\u001b[1;33m(\u001b[0m\u001b[0mPoint\u001b[0m\u001b[1;33m(\u001b[0m\u001b[0mpx\u001b[0m\u001b[1;33m,\u001b[0m\u001b[0mpy\u001b[0m\u001b[1;33m)\u001b[0m\u001b[1;33m,\u001b[0m\u001b[0mPoint\u001b[0m\u001b[1;33m(\u001b[0m\u001b[0mqx\u001b[0m\u001b[1;33m,\u001b[0m\u001b[0mqy\u001b[0m\u001b[1;33m)\u001b[0m\u001b[1;33m,\u001b[0m\u001b[0mcol\u001b[0m\u001b[1;33m)\u001b[0m\u001b[1;33m\u001b[0m\u001b[1;33m\u001b[0m\u001b[0m\n\u001b[1;32m----> 7\u001b[1;33m     \u001b[0mnode\u001b[0m\u001b[1;33m=\u001b[0m\u001b[0mNode\u001b[0m\u001b[1;33m(\u001b[0m\u001b[0mseg\u001b[0m\u001b[1;33m)\u001b[0m\u001b[1;33m\u001b[0m\u001b[1;33m\u001b[0m\u001b[0m\n\u001b[0m\u001b[0;32m      8\u001b[0m     \u001b[0mtree\u001b[0m\u001b[1;33m=\u001b[0m\u001b[0mTree\u001b[0m\u001b[1;33m(\u001b[0m\u001b[0mnode\u001b[0m\u001b[1;33m,\u001b[0m\u001b[0mseg\u001b[0m\u001b[1;33m,\u001b[0m\u001b[0mseg\u001b[0m\u001b[1;33m)\u001b[0m\u001b[1;33m\u001b[0m\u001b[1;33m\u001b[0m\u001b[0m\n\u001b[0;32m      9\u001b[0m     \u001b[1;32mreturn\u001b[0m \u001b[0mBundle\u001b[0m\u001b[1;33m(\u001b[0m\u001b[0mtree\u001b[0m\u001b[1;33m)\u001b[0m\u001b[1;33m\u001b[0m\u001b[1;33m\u001b[0m\u001b[0m\n",
      "\u001b[1;31mNameError\u001b[0m: name 'Node' is not defined"
     ]
    }
   ],
   "source": [
    "#testing join pointers\n",
    "#JSS:  I don't like this because you need to use all of your classes.\n",
    "# You should assume that someone gives you a collection of segs, all of the same color and in the right order, \n",
    "# and you may want to make a bundle from them.  Bundle should just add them to the tree.\n",
    "def makeSegBundle(px,py,qx,qy,col):\n",
    "    seg=Segment(Point(px,py),Point(qx,qy),col)\n",
    "    node=Node(seg)\n",
    "    tree=Tree(node,seg,seg)\n",
    "    return Bundle(tree)\n",
    "\n",
    "def makeFlag(px,py,qx,qy,col,typ):\n",
    "    seg=makeSeg(px,py,qx,qy,col)\n",
    "    if typ==0:\n",
    "        return Flag(seg,seg.p)\n",
    "    return Flag(seg,seg.q)\n",
    "\n",
    "\n",
    "a=makeSegBundle(1,1,2,2,0)\n",
    "a.bel=makeSegBundle(0,0,1,1,0)\n",
    "\n",
    "b=makeSegBundle(1,1,2,3,0)\n",
    "b.abv=makeSegBundle(0,0,1,2,0)\n",
    "\n",
    "keep=b\n",
    "\n",
    "a.join(b)\n",
    "a.plot()\n",
    "b.delete(makeSeg(1,1,2,2,0))\n",
    "a.plot()\n",
    "\n",
    "a.bel=makeSegBundle(9,9,9,9,0)\n",
    "a.tree=None\n",
    "keep.tree"
   ]
  },
  {
   "cell_type": "markdown",
   "metadata": {
    "colab_type": "text",
    "id": "bbddGfM-9hF0"
   },
   "source": [
    "## Processing a flag\n",
    "\n",
    "\n",
    "### Processing the point (with slope)\n",
    "\n",
    "Find the point in the red list:\n",
    "    \n",
    "    Look through the red bundles, locate which bundle it is in or which two red bundles it is between\n",
    "    \n",
    "Ensure the point is in between two red bundles\n",
    "    \n",
    "    If it already is, good; if it is inside red bundle, split it. Keep track of them.\n",
    "\n",
    "Look for the point in the adjacent blue bundles \n",
    "    \n",
    "    Check between the red bundles, above the upper red bundle, and below the lower red bundle\n",
    "    \n",
    "If it's not in the adjacent blue bundles.\n",
    "    \n",
    "    Swap and merge appropriately\n",
    "    \n",
    "Check if it is in the adjacent blue bundle (only need to check one red), if not, swap bundles; continue until it is in an adjacent blue bundle\n",
    "\n",
    "Split blue bundle\n",
    "\n",
    "Swap\n",
    "    \n",
    "\n",
    "### Processing the segment\n",
    "\n",
    "If adding the segment:\n",
    "    \n",
    "    add the segment as a bundle or into a bundle\n",
    "    \n",
    "if removing the segment:\n",
    "\n",
    "    Check if the appropriate segment is in the proper position (since when splitting the segment goes to the bottom bundle).\n",
    "    If not, add the appropriate intersections.\n",
    "    Remove point.\n",
    "    "
   ]
  },
  {
   "cell_type": "code",
   "execution_count": 137,
   "metadata": {},
   "outputs": [],
   "source": [
    "def makeSegBundle(px,py,qx,qy,col):\n",
    "    seg=Segment(Point(px,py),Point(qx,qy),col)\n",
    "    node=Tree.Node(seg)\n",
    "    tree=Tree(node,seg,seg)\n",
    "    return Bundle(tree)\n",
    "\n",
    "def makeFlag(px,py,qx,qy,col,typ):\n",
    "    seg=makeSeg(px,py,qx,qy,col)\n",
    "    if typ==0:\n",
    "        return Flag(seg,seg.p)\n",
    "    return Flag(seg,seg.q)\n",
    "\n",
    "#BundleList itself holds red bundles\n",
    "#case0: botHi>topLo and botHi>topHi\n",
    "#case1: botHi>topLo and botHi<topHi\n",
    "#case2: botHi<topLo\n",
    "class BundleList:\n",
    "    def __init__(self,rang): # blue over red\n",
    "        redMin=makeSegBundle(-rang,-rang,rang,-rang,0)\n",
    "        \n",
    "        blueMin=makeSegBundle(-rang,-rang,rang,-rang,1)\n",
    "        blueMin.bel=redMin\n",
    "        redMin.abv=blueMin\n",
    "        \n",
    "        redMax=makeSegBundle(-rang,rang,rang,rang,0)\n",
    "        redMax.bel=blueMin\n",
    "        blueMin.abv=redMax\n",
    "        \n",
    "        blueMax=makeSegBundle(-rang,rang,rang,rang,1)\n",
    "        blueMax.bel=redMax\n",
    "        redMax.abv=blueMax\n",
    "        \n",
    "        \n",
    "        self.lowest=redMin\n",
    "        self.highest=blueMax\n",
    "    \n",
    "    def plot(self):\n",
    "        cur=self.lowest\n",
    "        while cur.abv!=None:\n",
    "            cur.plot()\n",
    "            cur=cur.abv\n",
    "        cur.plot()\n",
    "        plt.show()\n",
    "        \n",
    "    #input:segment,bundle A it is being inserted after\n",
    "    #output: add the segment as bundle B after bundle A\n",
    "    def segBundle(self,seg,A):\n",
    "        #A<B<C\n",
    "        C=A.abv\n",
    "        B=Bundle(Tree(Tree.Node))\n",
    "        \n",
    "        A.abv=B\n",
    "        B.bel=A\n",
    "        \n",
    "        B.abv=C\n",
    "        C.bel=B\n",
    "        assert A.color!=B.color and B.color!=C.color\n",
    "        return B\n",
    "        \n",
    "    \n",
    "    #check if the color invariant is met\n",
    "    def checkColor(self):\n",
    "        color=0\n",
    "        cur=self.lowest\n",
    "        while cur.abv!=None:\n",
    "            if cur.color!=color:\n",
    "                return False\n",
    "            if color==0:\n",
    "                color=1\n",
    "            else:\n",
    "                color=0\n",
    "            cur=cur.abv\n",
    "        return True\n",
    "    \n",
    "    #input: flag, bundle, direc direction to include (1 includes up, 0 includes down)\n",
    "    #output: splits the tree at the flag, maintains abv and bel bundles\n",
    "    #will temporarily break bundleList color invariant\n",
    "    def split(self,flag,bundle,direc):\n",
    "        #bot<bundle<top to bot<A<B<top\n",
    "        top=bundle.abv\n",
    "        bot=bundle.bel\n",
    "        color=bundle.color\n",
    "        \n",
    "        [node,d]=bundle.flagTest(flag)\n",
    "        if d==-1:\n",
    "            node=node.predecessor()\n",
    "            [t1,t2]=bundle.tree.splitTree(node.seg)\n",
    "        elif d==1:\n",
    "            [t1,t2]=bundle.tree.splitTree(node.seg)\n",
    "        else:\n",
    "            if bundle.tree.root.left==None and bundle.tree.root.right==None:\n",
    "                return [bundle,bundle]\n",
    "            elif direc==1:\n",
    "                node=node.predecessor()\n",
    "                [t1,t2]=bundle.tree.splitTree(node.seg)\n",
    "            else:\n",
    "                [t1,t2]=bundle.tree.splitTree(node.seg)\n",
    "        bundle.setNone()\n",
    "        \n",
    "        A=Bundle()\n",
    "        A.tree=t1\n",
    "        A.color=color\n",
    "        B=Bundle()\n",
    "        B.tree=t2\n",
    "        B.color=color\n",
    "        \n",
    "        bot.abv=A\n",
    "        A.bel=bot\n",
    "        \n",
    "        A.abv=B\n",
    "        B.bel=A\n",
    "        \n",
    "        B.abv=top\n",
    "        top.bel=B\n",
    "        return [A,B]\n",
    "    \n",
    "    #input: bundle A\n",
    "    #output: if of same color: A joined with one above, the one above's fields are set to None\n",
    "            #else do nothing\n",
    "    #only need to worry about losing topLo\n",
    "    def join(self,A):\n",
    "        #bot<A<B<top\n",
    "        B=A.abv\n",
    "        if A.color!=B.color:\n",
    "            return A\n",
    "        B=A.abv\n",
    "        top=B.abv\n",
    "        A.tree=A.tree.joinTrees(B.tree)\n",
    "        \n",
    "        A.abv=top\n",
    "        top.bel=A\n",
    "        B.setNone()\n",
    "        return A\n",
    "    \n",
    "    #input: segment and bundle\n",
    "    #output: deletes seg from bundle. if the bundle becomes empty, remove it from the list\n",
    "    def delete(self,seg,bundle):\n",
    "        bundle.tree.delete(seg)\n",
    "        if bundle.tree.root==None:\n",
    "            bot=bundle.bel\n",
    "            top=bundle.abv\n",
    "            bundle.setNone()\n",
    "            bot.abv=top\n",
    "            top.bel=bot\n",
    "            self.join(bot)\n",
    "        return bundle\n",
    "    \n",
    "    #input:bundle A\n",
    "    #output:swap A with the one above. Join if necessary\n",
    "    #yet to report intersections\n",
    "    def swap(self,A):\n",
    "        #bot<A<B<top to bot<B<A<top\n",
    "        B=A.abv\n",
    "        bot=A.bel\n",
    "        top=B.abv\n",
    "        \n",
    "        bot.abv=B\n",
    "        B.bel=bot\n",
    "        \n",
    "        B.abv=A\n",
    "        A.bot=B\n",
    "        \n",
    "        A.abv=top\n",
    "        top.bel=A\n",
    "        \n",
    "        self.join(bot)\n",
    "        self.join(A)\n",
    "        return A\n",
    "    \n",
    "    #input: flag,start bundle\n",
    "    #output: bundle(with the same color as start bundle) directly below the flag or the bundle encompassing it\n",
    "    def findFlag(self,flag,start):\n",
    "        cur=start\n",
    "        #invariant: cur is a bundle(same color as start) that's below or contains the flag\n",
    "        while cur.abv.abv!=None and flag.cmpSeg(cur.abv.abv.min())>=0:\n",
    "            cur=cur.abv.abv\n",
    "        return cur\n",
    "    \n",
    "    #input:flag, bundle containing or directly below the flag, position of bundle(higher one 1 or lower one 0)\n",
    "    #output:the bundles directly above and below the flag\n",
    "    def flagLoHi(self,flag,bundle,pos):\n",
    "        if flag.cmpSeg(bundle.max())>0:\n",
    "            return [bundle,bundle.abv.abv]\n",
    "        elif pos==0:\n",
    "            [lo,hi]=self.split(flag,bundle,1)\n",
    "        else:\n",
    "            [lo,hi]=self.split(flag,bundle,0)\n",
    "        return [lo,hi]\n",
    "\n",
    "    #input:flag\n",
    "    #output: [botLo,botHi,topLo,topHi]\n",
    "    def findLoHi(self,flag):\n",
    "        red=self.findFlag(flag,self.lowest)\n",
    "        blue=self.findFlag(flag,self.lowest.abv)\n",
    "        if red>blue:\n",
    "            [botLo,botHi]=self.flagLoHi(flag,blue,0)\n",
    "            [topLo,topHi]=self.flagLoHi(flag,red,1)\n",
    "        else:\n",
    "            [botLo,botHi]=self.flagLoHi(flag,red,0)\n",
    "            [topLo,topHi]=self.flagLoHi(flag,blue,1)\n",
    "        return [botLo,botHi,topLo,topHi]\n",
    "    \n",
    "    #input: flag\n",
    "    #output: returns 0 for case0, 1 for case1 described above\n",
    "    def checkCase(self,botLo,botHi,topLo,topHi):\n",
    "        if botHi>topLo:\n",
    "            botHi.abv.max().prt()\n",
    "            topHi.max().prt()\n",
    "            if botHi>topHi:\n",
    "                return 0\n",
    "            else:\n",
    "                return 1\n",
    "        else:\n",
    "            return 2\n",
    "    \n",
    "    #input:botHi,topLo where botHi<topLo\n",
    "    #output:swap botHi until botHi>topLo\n",
    "    def swapBotHi(self,botHi,topLo):\n",
    "        assert botHi<topLo\n",
    "        while botHi.abv.abv<topLo:\n",
    "            botHi=self.swap(botHi)\n",
    "        #swap botHi but still keeping topLo (else topLo will be lost in the swap)\n",
    "        assert botHi.abv==topLo\n",
    "        topLo=botHi.bel\n",
    "        self.swap(botHi)\n",
    "        assert not topLo.isEmpty()\n",
    "        assert botHi.bel==topLo and botHi.abv==topHi\n",
    "        return [botHi,topLo]\n",
    "    \n",
    "    #input: start flag, topLo\n",
    "    #output: adds the flag.seg while maintaining invariant\n",
    "    def procStart0(self,flag,topLo):\n",
    "        if flag.seg.color==topLo.color:\n",
    "            topHi=topLo\n",
    "            self.join(topLo)\n",
    "            topLo.insert(flag.seg)\n",
    "            assert self.checkColor()\n",
    "            return topLo\n",
    "        else:\n",
    "            assert self.checkColor()\n",
    "            return self.segBundle(flag.seg,topLo)\n",
    "    \n",
    "    #input: start flag, botHi, topLo\n",
    "    #output: adds segment of flag into the corresponding bundle and returns the bundle\n",
    "    def procStart1(self,flag,botHi,topLo):\n",
    "        if flag.seg.color==botHi.color:\n",
    "            botHi.insert(flag.seg)\n",
    "            assert self.checkColor()\n",
    "            return botHi\n",
    "        else:\n",
    "            topLo.insert(flag.seg)\n",
    "            assert self.checkColor()\n",
    "            return topLo\n",
    "    \n",
    "    #input: end flag,botHi bundle, topLo bundle\n",
    "    #output: removes the segment of the flag from the corresponding bundle and returns the bundle\n",
    "    def procEnd(self,flag,botHi,topLo):\n",
    "        if topLo.abv==topHi:\n",
    "            topHi=topLo\n",
    "            self.join(topLo)\n",
    "        if botHi.contains(flag.seg):\n",
    "            assert flag.seg.color==botHi.color\n",
    "            self.delete(flag.seg,botHi)\n",
    "            assert self.checkColor()\n",
    "            return botHi\n",
    "        else:\n",
    "            assert flag.seg.color==topLo.color\n",
    "            assert topLo.contains(flag.seg)\n",
    "            self.delete(flag.seg,topLo)\n",
    "            assert self.checkColor()\n",
    "            return topLo\n",
    "    \n",
    "    #input: flag\n",
    "    #output: process the flag for sweep line, returns the bundle where the seg is added/removed\n",
    "    def procFlag(self,flag):\n",
    "        [botLo,botHi,topLo,topHi]=self.findLoHi(flag)\n",
    "        case=self.checkCase(botLo,botHi,topLo,topHi)\n",
    "        print('case',case)\n",
    "        if case==0:\n",
    "            if flag.type==0:\n",
    "                return self.procStart0(flag,topLo)\n",
    "            else:\n",
    "                return self.procEnd(flag,botHi,topoLo)\n",
    "        elif case==1:\n",
    "            if flag.type==0:\n",
    "                return self.procStart1(flag,botHi,topLo)\n",
    "            else:\n",
    "                return self.procEnd(flag,botHi,topoLo)\n",
    "        else:\n",
    "            [botHi,topLo]=self.swapBotHi(botHi,topLo)\n",
    "            assert self.checkCase(botLo,botHi,topLo,topHi)==1\n",
    "            if flag.type==0:\n",
    "                return self.procStart1(flag,topLo)\n",
    "            else:\n",
    "                return self.procEnd(flag,botHi,topoLo)"
   ]
  },
  {
   "cell_type": "code",
   "execution_count": 138,
   "metadata": {},
   "outputs": [
    {
     "data": {
      "text/plain": [
       "<__main__.Bundle at 0xe192f0>"
      ]
     },
     "execution_count": 138,
     "metadata": {},
     "output_type": "execute_result"
    }
   ],
   "source": [
    "bl=BundleList(10)\n",
    "blueMin=bl.lowest.abv\n",
    "redMax=bl.highest.bel\n",
    "\n",
    "sb=makeSegBundle(0,0,4,4,1)\n",
    "blueMin.abv=sb\n",
    "sb.below=blueMin\n",
    "\n",
    "sb.abv=redMax\n",
    "redMax.bel=sb\n",
    "\n",
    "bl.join(blueMin)"
   ]
  },
  {
   "cell_type": "code",
   "execution_count": 139,
   "metadata": {
    "colab": {},
    "colab_type": "code",
    "id": "FmDyttG99hF3"
   },
   "outputs": [],
   "source": [
    "#for building segments\n",
    "class AllSegments:\n",
    "    def __init__(self):\n",
    "        self.red=[]\n",
    "        self.blue=[]\n",
    "        self.flags=[]\n",
    "    #adding segments \n",
    "    def addRed(self,px,py,qx,qy):\n",
    "        self.red.append(Segment(Point(px,py),Point(qx,qy),0))\n",
    "    def addBlue(self,px,py,qx,qy):\n",
    "        self.blue.append(Segment(Point(px,py),Point(qx,qy),1))\n",
    "    \n",
    "    #create square with endpts (-x,-x), (-x,x), (x,-x), (x,x)\n",
    "    def addRedSq(self,x):\n",
    "        self.addRed(-x,-x,-x,x)\n",
    "        self.addRed(-x,-x,x,-x)\n",
    "        self.addRed(x,x,x,-x)\n",
    "        self.addRed(x,x,-x,x)\n",
    "    \n",
    "    def partition(self,arr,low,high): \n",
    "        i = ( low-1 )         \n",
    "        pivot = arr[high]      \n",
    "        for j in range(low , high):      \n",
    "            if   arr[j].cmp(pivot)<=0:             \n",
    "                i = i+1 \n",
    "                arr[i],arr[j] = arr[j],arr[i] \n",
    "        arr[i+1],arr[high] = arr[high],arr[i+1] \n",
    "        return ( i+1 ) \n",
    "\n",
    "    def quickSort(self,arr,low,high): \n",
    "        if low < high: \n",
    "            pi = self.partition(arr,low,high) \n",
    "            self.quickSort(arr, low, pi-1) \n",
    "            self.quickSort(arr, pi+1, high)\n",
    "\n",
    "    def sort(self,arr):\n",
    "        self.quickSort(arr,0,len(arr)-1)\n",
    "\n",
    "    #return the sorted list of flags\n",
    "    def sortFlags(self):\n",
    "        self.flags=[]\n",
    "        for i in range(len(self.red)):\n",
    "            self.flags.append(Flag(self.red[i],self.red[i].p))\n",
    "            self.flags.append(Flag(self.red[i],self.red[i].q))\n",
    "        for i in range(len(self.blue)):\n",
    "            self.flags.append(Flag(self.blue[i],self.blue[i].p))\n",
    "            self.flags.append(Flag(self.blue[i],self.blue[i].q))\n",
    "        self.sort(self.flags)\n",
    "    \n",
    "    #plot all the segments\n",
    "    def plot(self):\n",
    "        for i in range(len(self.red)):\n",
    "            self.red[i].plot()\n",
    "        for i in range(len(self.blue)):\n",
    "            self.blue[i].plot()\n",
    "        plt.axis('equal')\n",
    "        plt.show()"
   ]
  },
  {
   "cell_type": "code",
   "execution_count": 140,
   "metadata": {
    "colab": {},
    "colab_type": "code",
    "id": "F0cro0VJ9hF6"
   },
   "outputs": [],
   "source": [
    "def sweep(flags,rang):\n",
    "    bl=BundleList(rang)\n",
    "    for i in range(len(flags)):\n",
    "        bl.procFlag(flags[i])\n",
    "        bl.plot()"
   ]
  },
  {
   "cell_type": "code",
   "execution_count": 141,
   "metadata": {
    "colab": {},
    "colab_type": "code",
    "id": "DrTPU_bW9hF_",
    "outputId": "6b960d3b-8cbb-4df8-f6eb-29baae696d35"
   },
   "outputs": [
    {
     "data": {
      "image/png": "[encoded data removed]",
      "text/plain": [
       "<Figure size 432x288 with 1 Axes>"
      ]
     },
     "metadata": {
      "needs_background": "light"
     },
     "output_type": "display_data"
    },
    {
     "name": "stdout",
     "output_type": "stream",
     "text": [
      "(-10, 10) (10, 10) blue\n",
      "(-10, 10) (10, 10) blue\n",
      "case 1\n",
      "(-10, -10) (10, -10) red\n",
      " \n",
      "(-10, -10) (10, -10) blue\n",
      "(-3, 0) (0, 3) blue\n",
      " \n",
      "(-10, 10) (10, 10) red\n",
      " \n",
      "(-10, 10) (10, 10) blue\n",
      " \n"
     ]
    },
    {
     "data": {
      "image/png": "[encoded data removed]",
      "text/plain": [
       "<Figure size 432x288 with 1 Axes>"
      ]
     },
     "metadata": {
      "needs_background": "light"
     },
     "output_type": "display_data"
    },
    {
     "name": "stdout",
     "output_type": "stream",
     "text": [
      "(-10, 10) (10, 10) blue\n",
      "(-3, 0) (0, 3) blue\n",
      "case 1\n"
     ]
    },
    {
     "ename": "AssertionError",
     "evalue": "",
     "output_type": "error",
     "traceback": [
      "\u001b[1;31m---------------------------------------------------------------------------\u001b[0m",
      "\u001b[1;31mAssertionError\u001b[0m                            Traceback (most recent call last)",
      "\u001b[1;32m<ipython-input-141-dbb489bdff93>\u001b[0m in \u001b[0;36m<module>\u001b[1;34m\u001b[0m\n\u001b[0;32m      4\u001b[0m \u001b[0ma\u001b[0m\u001b[1;33m.\u001b[0m\u001b[0mplot\u001b[0m\u001b[1;33m(\u001b[0m\u001b[1;33m)\u001b[0m\u001b[1;33m\u001b[0m\u001b[1;33m\u001b[0m\u001b[0m\n\u001b[0;32m      5\u001b[0m \u001b[0ma\u001b[0m\u001b[1;33m.\u001b[0m\u001b[0msortFlags\u001b[0m\u001b[1;33m(\u001b[0m\u001b[1;33m)\u001b[0m\u001b[1;33m\u001b[0m\u001b[1;33m\u001b[0m\u001b[0m\n\u001b[1;32m----> 6\u001b[1;33m \u001b[0msweep\u001b[0m\u001b[1;33m(\u001b[0m\u001b[0ma\u001b[0m\u001b[1;33m.\u001b[0m\u001b[0mflags\u001b[0m\u001b[1;33m,\u001b[0m\u001b[1;36m10\u001b[0m\u001b[1;33m)\u001b[0m\u001b[1;33m\u001b[0m\u001b[1;33m\u001b[0m\u001b[0m\n\u001b[0m\u001b[0;32m      7\u001b[0m \u001b[0ma\u001b[0m\u001b[1;33m.\u001b[0m\u001b[0mflags\u001b[0m\u001b[1;33m\u001b[0m\u001b[1;33m\u001b[0m\u001b[0m\n",
      "\u001b[1;32m<ipython-input-140-65bdb75a0af0>\u001b[0m in \u001b[0;36msweep\u001b[1;34m(flags, rang)\u001b[0m\n\u001b[0;32m      2\u001b[0m     \u001b[0mbl\u001b[0m\u001b[1;33m=\u001b[0m\u001b[0mBundleList\u001b[0m\u001b[1;33m(\u001b[0m\u001b[0mrang\u001b[0m\u001b[1;33m)\u001b[0m\u001b[1;33m\u001b[0m\u001b[1;33m\u001b[0m\u001b[0m\n\u001b[0;32m      3\u001b[0m     \u001b[1;32mfor\u001b[0m \u001b[0mi\u001b[0m \u001b[1;32min\u001b[0m \u001b[0mrange\u001b[0m\u001b[1;33m(\u001b[0m\u001b[0mlen\u001b[0m\u001b[1;33m(\u001b[0m\u001b[0mflags\u001b[0m\u001b[1;33m)\u001b[0m\u001b[1;33m)\u001b[0m\u001b[1;33m:\u001b[0m\u001b[1;33m\u001b[0m\u001b[1;33m\u001b[0m\u001b[0m\n\u001b[1;32m----> 4\u001b[1;33m         \u001b[0mbl\u001b[0m\u001b[1;33m.\u001b[0m\u001b[0mprocFlag\u001b[0m\u001b[1;33m(\u001b[0m\u001b[0mflags\u001b[0m\u001b[1;33m[\u001b[0m\u001b[0mi\u001b[0m\u001b[1;33m]\u001b[0m\u001b[1;33m)\u001b[0m\u001b[1;33m\u001b[0m\u001b[1;33m\u001b[0m\u001b[0m\n\u001b[0m\u001b[0;32m      5\u001b[0m         \u001b[0mbl\u001b[0m\u001b[1;33m.\u001b[0m\u001b[0mplot\u001b[0m\u001b[1;33m(\u001b[0m\u001b[1;33m)\u001b[0m\u001b[1;33m\u001b[0m\u001b[1;33m\u001b[0m\u001b[0m\n",
      "\u001b[1;32m<ipython-input-137-f338950e72fd>\u001b[0m in \u001b[0;36mprocFlag\u001b[1;34m(self, flag)\u001b[0m\n\u001b[0;32m    284\u001b[0m         \u001b[1;32melif\u001b[0m \u001b[0mcase\u001b[0m\u001b[1;33m==\u001b[0m\u001b[1;36m1\u001b[0m\u001b[1;33m:\u001b[0m\u001b[1;33m\u001b[0m\u001b[1;33m\u001b[0m\u001b[0m\n\u001b[0;32m    285\u001b[0m             \u001b[1;32mif\u001b[0m \u001b[0mflag\u001b[0m\u001b[1;33m.\u001b[0m\u001b[0mtype\u001b[0m\u001b[1;33m==\u001b[0m\u001b[1;36m0\u001b[0m\u001b[1;33m:\u001b[0m\u001b[1;33m\u001b[0m\u001b[1;33m\u001b[0m\u001b[0m\n\u001b[1;32m--> 286\u001b[1;33m                 \u001b[1;32mreturn\u001b[0m \u001b[0mself\u001b[0m\u001b[1;33m.\u001b[0m\u001b[0mprocStart1\u001b[0m\u001b[1;33m(\u001b[0m\u001b[0mflag\u001b[0m\u001b[1;33m,\u001b[0m\u001b[0mbotHi\u001b[0m\u001b[1;33m,\u001b[0m\u001b[0mtopLo\u001b[0m\u001b[1;33m)\u001b[0m\u001b[1;33m\u001b[0m\u001b[1;33m\u001b[0m\u001b[0m\n\u001b[0m\u001b[0;32m    287\u001b[0m             \u001b[1;32melse\u001b[0m\u001b[1;33m:\u001b[0m\u001b[1;33m\u001b[0m\u001b[1;33m\u001b[0m\u001b[0m\n\u001b[0;32m    288\u001b[0m                 \u001b[1;32mreturn\u001b[0m \u001b[0mself\u001b[0m\u001b[1;33m.\u001b[0m\u001b[0mprocEnd\u001b[0m\u001b[1;33m(\u001b[0m\u001b[0mflag\u001b[0m\u001b[1;33m,\u001b[0m\u001b[0mbotHi\u001b[0m\u001b[1;33m,\u001b[0m\u001b[0mtopoLo\u001b[0m\u001b[1;33m)\u001b[0m\u001b[1;33m\u001b[0m\u001b[1;33m\u001b[0m\u001b[0m\n",
      "\u001b[1;32m<ipython-input-137-f338950e72fd>\u001b[0m in \u001b[0;36mprocStart1\u001b[1;34m(self, flag, botHi, topLo)\u001b[0m\n\u001b[0;32m    246\u001b[0m         \u001b[1;32mif\u001b[0m \u001b[0mflag\u001b[0m\u001b[1;33m.\u001b[0m\u001b[0mseg\u001b[0m\u001b[1;33m.\u001b[0m\u001b[0mcolor\u001b[0m\u001b[1;33m==\u001b[0m\u001b[0mbotHi\u001b[0m\u001b[1;33m.\u001b[0m\u001b[0mcolor\u001b[0m\u001b[1;33m:\u001b[0m\u001b[1;33m\u001b[0m\u001b[1;33m\u001b[0m\u001b[0m\n\u001b[0;32m    247\u001b[0m             \u001b[0mbotHi\u001b[0m\u001b[1;33m.\u001b[0m\u001b[0minsert\u001b[0m\u001b[1;33m(\u001b[0m\u001b[0mflag\u001b[0m\u001b[1;33m.\u001b[0m\u001b[0mseg\u001b[0m\u001b[1;33m)\u001b[0m\u001b[1;33m\u001b[0m\u001b[1;33m\u001b[0m\u001b[0m\n\u001b[1;32m--> 248\u001b[1;33m             \u001b[1;32massert\u001b[0m \u001b[0mself\u001b[0m\u001b[1;33m.\u001b[0m\u001b[0mcheckColor\u001b[0m\u001b[1;33m(\u001b[0m\u001b[1;33m)\u001b[0m\u001b[1;33m\u001b[0m\u001b[1;33m\u001b[0m\u001b[0m\n\u001b[0m\u001b[0;32m    249\u001b[0m             \u001b[1;32mreturn\u001b[0m \u001b[0mbotHi\u001b[0m\u001b[1;33m\u001b[0m\u001b[1;33m\u001b[0m\u001b[0m\n\u001b[0;32m    250\u001b[0m         \u001b[1;32melse\u001b[0m\u001b[1;33m:\u001b[0m\u001b[1;33m\u001b[0m\u001b[1;33m\u001b[0m\u001b[0m\n",
      "\u001b[1;31mAssertionError\u001b[0m: "
     ]
    }
   ],
   "source": [
    "a=AllSegments()\n",
    "a.addRedSq(2)\n",
    "a.addBlue(-3,0,0,3)\n",
    "a.plot()\n",
    "a.sortFlags()\n",
    "sweep(a.flags,10)\n",
    "a.flags"
   ]
  },
  {
   "cell_type": "code",
   "execution_count": 142,
   "metadata": {},
   "outputs": [
    {
     "data": {
      "text/plain": [
       "False"
      ]
     },
     "execution_count": 142,
     "metadata": {},
     "output_type": "execute_result"
    }
   ],
   "source": [
    "a=makeSeg(-10,10,10,10,1)\n",
    "b=makeSeg(-3,0,0,3,1)\n",
    "a>b"
   ]
  },
  {
   "cell_type": "code",
   "execution_count": 0,
   "metadata": {
    "colab": {},
    "colab_type": "code",
    "id": "h26mAw9Z9hGE"
   },
   "outputs": [],
   "source": [
    "a=Bundle(makeSeg(1,2,3,4,0))\n",
    "b=a\n",
    "a.abv=Bundle(makeSeg(1,2,3,5,0))\n",
    "b.abv.plot()"
   ]
  },
  {
   "cell_type": "code",
   "execution_count": 0,
   "metadata": {
    "colab": {},
    "colab_type": "code",
    "id": "84DMclYa9hGH"
   },
   "outputs": [],
   "source": [
    "a=BundleList(5)\n",
    "temp=a.lowest.abv\n",
    "a.lowest.tree=1234\n",
    "temp.bel.plot()"
   ]
  },
  {
   "cell_type": "code",
   "execution_count": 0,
   "metadata": {
    "colab": {},
    "colab_type": "code",
    "id": "tRGrbpWw9hGK"
   },
   "outputs": [],
   "source": [
    "a=BundleList(10)\n",
    "a2=[a.lowest.abv.abv]\n",
    "a1=[a.lowest]\n",
    "a.redBs=[a1,a2]\n",
    "a1=None\n",
    "a.redBs.plot()"
   ]
  },
  {
   "cell_type": "code",
   "execution_count": 0,
   "metadata": {
    "colab": {},
    "colab_type": "code",
    "id": "RVmnh9bv9hGN"
   },
   "outputs": [],
   "source": [
    "a=Bundle(makeSeg(1,2,3,4,0))\n",
    "b=Bundle(makeSeg(1,2,3,5,0))\n",
    "a.abv=b\n",
    "b.abv=Bundle(makeSeg(1,2,3,6,0))\n",
    "a.abv.abv.plot()"
   ]
  },
  {
   "cell_type": "code",
   "execution_count": 0,
   "metadata": {
    "colab": {},
    "colab_type": "code",
    "id": "HoUQlYSa9hGS"
   },
   "outputs": [],
   "source": [
    "a=Bundle(makeSeg(1,2,3,4,0))\n",
    "b=a\n",
    "a.setTo(None)\n",
    "b.plot()"
   ]
  },
  {
   "cell_type": "code",
   "execution_count": 0,
   "metadata": {
    "colab": {},
    "colab_type": "code",
    "id": "OBoomu0n9hGX"
   },
   "outputs": [],
   "source": [
    "a=Bundle(makeSeg(1,2,3,4,0))\n",
    "b=a\n",
    "a=(Bundle(makeSeg(1,2,3,5,0)))\n",
    "b.plot()"
   ]
  },
  {
   "cell_type": "code",
   "execution_count": 0,
   "metadata": {
    "colab": {},
    "colab_type": "code",
    "id": "htsJOzFc9hGb"
   },
   "outputs": [],
   "source": [
    "bl=BundleList(10)\n",
    "flag1=makeFlag(1,2,3,4,1,0)\n",
    "flag2=makeFlag(1,2,3,4,0,0)\n",
    "bl.processFlag(flag2)\n",
    "bl.processFlag(flag1)\n",
    "bl.plot()\n",
    "flag3=makeFlag(1,2,3,4,0,1)\n",
    "bl.processFlag(flag3)\n",
    "flag4=makeFlag(1,2,3,4,1,1)\n",
    "bl.processFlag(flag4)\n",
    "bl.plot()"
   ]
  },
  {
   "cell_type": "code",
   "execution_count": 0,
   "metadata": {
    "colab": {},
    "colab_type": "code",
    "id": "laYMBD0O9hGi"
   },
   "outputs": [],
   "source": [
    "s=AllSegments()\n",
    "for i in range(0,10,2):\n",
    "    s.addBlue(-i-1,i-2,0,0)\n",
    "for i in range(11,1,-2):\n",
    "    s.addBlue(-i-1,i-2,0,0)\n",
    "b=Bundle(1)\n",
    "s.sortFlags()\n",
    "for i in range(5):\n",
    "    b.insertB(s.blue[2*i])\n",
    "b.plot()"
   ]
  },
  {
   "cell_type": "code",
   "execution_count": 0,
   "metadata": {
    "colab": {},
    "colab_type": "code",
    "id": "KClyUFY39hGm"
   },
   "outputs": [],
   "source": [
    "for i in range(len(s.flags)):\n",
    "    [node,x]=b.flagTest(s.flags[-i])\n",
    "    if x!=0:\n",
    "        s.flags[-i].prt()\n",
    "        print(x)\n",
    "        node.val.prt()\n",
    "        print(' ')"
   ]
  },
  {
   "cell_type": "code",
   "execution_count": 0,
   "metadata": {
    "colab": {},
    "colab_type": "code",
    "id": "N8q4r91t9hGz"
   },
   "outputs": [],
   "source": [
    "a=2\n",
    "b=5\n",
    "a=b\n",
    "b=4\n",
    "a"
   ]
  }
 ],
 "metadata": {
  "colab": {
   "collapsed_sections": [],
   "include_colab_link": true,
   "name": "Copy of Clippings 2.0.ipynb",
   "provenance": [],
   "version": "0.3.2"
  },
  "kernelspec": {
   "display_name": "Python 3",
   "language": "python",
   "name": "python3"
  },
  "language_info": {
   "codemirror_mode": {
    "name": "ipython",
    "version": 3
   },
   "file_extension": ".py",
   "mimetype": "text/x-python",
   "name": "python",
   "nbconvert_exporter": "python",
   "pygments_lexer": "ipython3",
   "version": "3.7.2"
  }
 },
 "nbformat": 4,
 "nbformat_minor": 1
}
