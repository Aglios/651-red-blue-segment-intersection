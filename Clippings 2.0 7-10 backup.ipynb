{
  "nbformat": 4,
  "nbformat_minor": 0,
  "metadata": {
    "colab": {
      "name": "Copy of Clippings 2.0.ipynb",
      "version": "0.3.2",
      "provenance": [],
      "collapsed_sections": [],
      "include_colab_link": true
    },
    "language_info": {
      "codemirror_mode": {
        "name": "ipython",
        "version": 3
      },
      "file_extension": ".py",
      "mimetype": "text/x-python",
      "name": "python",
      "nbconvert_exporter": "python",
      "pygments_lexer": "ipython3",
      "version": "3.7.2"
    },
    "kernelspec": {
      "display_name": "Python 3",
      "language": "python",
      "name": "python3"
    }
  },
  "cells": [
    {
      "cell_type": "markdown",
      "metadata": {
        "id": "view-in-github",
        "colab_type": "text"
      },
      "source": [
        "<a href=\"https://colab.research.google.com/github/Aglios/651-red-blue-segment-intersection/blob/master/Clippings%202.0.ipynb\" target=\"_parent\"><img src=\"https://colab.research.google.com/assets/colab-badge.svg\" alt=\"Open In Colab\"/></a>"
      ]
    },
    {
      "cell_type": "code",
      "metadata": {
        "colab_type": "code",
        "id": "7L1UarF99hFf",
        "colab": {}
      },
      "source": [
        "#!pip install ipdb"
      ],
      "execution_count": 0,
      "outputs": []
    },
    {
      "cell_type": "code",
      "metadata": {
        "colab_type": "code",
        "id": "BlEsH7yrSkAa",
        "colab": {}
      },
      "source": [
        "import numpy as np\n",
        "import matplotlib.pyplot as plt\n",
        "import sys\n",
        "import ipdb"
      ],
      "execution_count": 0,
      "outputs": []
    },
    {
      "cell_type": "markdown",
      "metadata": {
        "colab_type": "text",
        "id": "YEO0HbcMUP26"
      },
      "source": [
        "#types and predicates\n",
        "and tests.  You should include tests after every definition...  "
      ]
    },
    {
      "cell_type": "code",
      "metadata": {
        "colab_type": "code",
        "id": "VDASc2Pe9hFk",
        "colab": {}
      },
      "source": [
        "#determinant test; return 1 if r is left of line pq, -1 if r right of line pq, 0 if on line pq\n",
        "def detTest(px,py,qx,qy,rx,ry):\n",
        "    D=np.array([[1,px,py],[1,qx,qy],[1,rx,ry]],dtype='i8')\n",
        "    return int(np.sign(np.linalg.det(D)))\n",
        "    \n",
        "#returns true iff pq and rs cross\n",
        "# JSS: does not handle endpoints on segments consistent with perturbation, but not actually used yet. \n",
        "\n",
        "def cross(px,py,qx,qy,rx,ry,sx,sy):\n",
        "    pqr=detTest(px,py,qx,qy,rx,ry)\n",
        "    pqs=detTest(px,py,qx,qy,sx,sy)\n",
        "    if not ((pqr==1 and pqs==-1) or (pqr==-1 and pqs==1)):\n",
        "        return False\n",
        "    rsp=detTest(rx,ry,sx,sy,px,py)\n",
        "    rsq=detTest(rx,ry,sx,sy,qx,qy)\n",
        "    if not ((rsp==1 and rsq==-1) or (rsp==-1 and rsq==1)):\n",
        "        return False\n",
        "    return True"
      ],
      "execution_count": 0,
      "outputs": []
    },
    {
      "cell_type": "markdown",
      "metadata": {
        "colab_type": "text",
        "id": "3WHq8PZOQgNk"
      },
      "source": [
        "### tests\n",
        "For example, timing shows that this is about 30 time slower than if you just calculated the numerical value of the determinant and 10 times slower than computing its sign. (Python fuction calls are slow.)  \n",
        "You don't want to do anything about this now, because you want to get it working first, but if you leave the testing here you'll remember that this is a point to speed up, and the tests will help quickly catch any errors you introduce while doing so. "
      ]
    },
    {
      "cell_type": "code",
      "metadata": {
        "colab_type": "code",
        "id": "UCIOILeiMBrP",
        "outputId": "fcfddebe-f389-49eb-a005-dd8b1c0b2bf5",
        "colab": {
          "base_uri": "https://localhost:8080/",
          "height": 34
        }
      },
      "source": [
        "import timeit\n",
        "timeit.timeit('for n in range(50): detTest(1,2,3,4,n,5)', setup=\"from __main__ import detTest\", number = 10000)\n"
      ],
      "execution_count": 7,
      "outputs": [
        {
          "output_type": "execute_result",
          "data": {
            "text/plain": [
              "6.0696070529998"
            ]
          },
          "metadata": {
            "tags": []
          },
          "execution_count": 7
        }
      ]
    },
    {
      "cell_type": "code",
      "metadata": {
        "colab_type": "code",
        "id": "H5JxLfxLHzhd",
        "outputId": "bc652f9e-7411-4ca9-9ff1-54dff54a8078",
        "colab": {
          "base_uri": "https://localhost:8080/",
          "height": 34
        }
      },
      "source": [
        "def mydet(px,py,qx,qy,rx,ry):\n",
        "  return (qx-px)*(ry-py)-(qy-py)*(rx-px)\n",
        "\n",
        "timeit.timeit('for n in range(50): mydet(1,2,3,4,n,5)', setup=\"from __main__ import mydet\", number = 10000)"
      ],
      "execution_count": 8,
      "outputs": [
        {
          "output_type": "execute_result",
          "data": {
            "text/plain": [
              "0.1965264059999754"
            ]
          },
          "metadata": {
            "tags": []
          },
          "execution_count": 8
        }
      ]
    },
    {
      "cell_type": "code",
      "metadata": {
        "colab_type": "code",
        "id": "OCZ21cOzP2eQ",
        "outputId": "84c26913-0704-4677-f714-705951f6d94c",
        "colab": {
          "base_uri": "https://localhost:8080/",
          "height": 34
        }
      },
      "source": [
        "timeit.timeit('for n in range(50): sign(mydet(1,2,3,4,n,5))', setup=\"from __main__ import mydet; from numpy import sign\", number = 10000)"
      ],
      "execution_count": 9,
      "outputs": [
        {
          "output_type": "execute_result",
          "data": {
            "text/plain": [
              "0.5656986039998628"
            ]
          },
          "metadata": {
            "tags": []
          },
          "execution_count": 9
        }
      ]
    },
    {
      "cell_type": "markdown",
      "metadata": {
        "colab_type": "text",
        "id": "1ouDMi7zQ8kY"
      },
      "source": [
        "Quick test for segments with co-linear points. I'm just going to include comments on the expected test results, but I am certain that there are python packages that give more elegant test rigs. "
      ]
    },
    {
      "cell_type": "code",
      "metadata": {
        "colab_type": "code",
        "id": "2Vcxn5RZP1Vz",
        "outputId": "bac548a0-0f04-4ffb-ac60-ff9bf67e7582",
        "colab": {
          "base_uri": "https://localhost:8080/",
          "height": 34
        }
      },
      "source": [
        "# test with 3 or 4 points on a line (currently all False, but some should perhaps be True)\n",
        "print(cross(0,0, 2,2, 1,1, 4,4), cross(0,0, 2,2, 1,0, 3,4), cross(0,0, 2,2, 1,-1, -1,1)) # all print as false"
      ],
      "execution_count": 10,
      "outputs": [
        {
          "output_type": "stream",
          "text": [
            "False False False\n"
          ],
          "name": "stdout"
        }
      ]
    },
    {
      "cell_type": "markdown",
      "metadata": {
        "colab_type": "text",
        "id": "WdsOGSBRqlOt"
      },
      "source": [
        "## Point, segment, and flag types"
      ]
    },
    {
      "cell_type": "code",
      "metadata": {
        "colab_type": "code",
        "id": "MTxOuMSm9hFo",
        "colab": {}
      },
      "source": [
        "#class for points\n",
        "class Point:\n",
        "    def __init__(self, x, y):\n",
        "        self.x=x\n",
        "        self.y=y\n",
        "    def plot(self):\n",
        "        plt.scatter(self.x,self.y)\n",
        "        return self\n",
        "        \n",
        "    def prt(self):\n",
        "        print((self.x,self.y))\n",
        "        return self # JSS: useful because you can insert prt anywhere...\n",
        "            \n",
        "    def __lt__(self,other):\n",
        "        return self.x<other.x or (self.x==other.x and self.y<other.y)        \n",
        "    def __gt__(self,other):\n",
        "        return self.x>other.x or (self.x==other.x and self.y>other.y)    \n",
        "    def __eq__(self,other):\n",
        "        return self.x==other.x and self.y==other.y    \n",
        "    def __le__(self,other):\n",
        "        return self.x<other.x or (self.x==other.x and self.y<=other.y)    \n",
        "    def __ge__(self,other):\n",
        "        return self.x>other.x or (self.x==other.x and self.y>=other.y)   \n",
        "    def __ne__(self,other):\n",
        "        return not (self==other)\n",
        "\n"
      ],
      "execution_count": 0,
      "outputs": []
    },
    {
      "cell_type": "code",
      "metadata": {
        "colab_type": "code",
        "id": "wA6csxvMRTdq",
        "outputId": "14cf157e-8e14-42cc-d27d-908554afcb6f",
        "colab": {
          "base_uri": "https://localhost:8080/",
          "height": 34
        }
      },
      "source": [
        "print(Point(1,2) < Point(1,3), Point(1,2) == Point(1.0,2.0), Point(0,1)<Point(1,2)) # all True"
      ],
      "execution_count": 12,
      "outputs": [
        {
          "output_type": "stream",
          "text": [
            "True True True\n"
          ],
          "name": "stdout"
        }
      ]
    },
    {
      "cell_type": "code",
      "metadata": {
        "colab_type": "code",
        "id": "P2JHJpCXRLtm",
        "colab": {}
      },
      "source": [
        "#class for segments \n",
        "#color is 0 for red, 1 for blue\n",
        "RBCOLOR = 'rb' #JSS: tiny tables are better than copying code to avoid copy paste errors and save memory\n",
        "REDBLUE = ['red','blue']\n",
        "\n",
        "#invariant:  p<=q lexicographically # JSS: always comment on invariants.\n",
        "class Segment:\n",
        "    def __init__(self,pointA,pointB,color):\n",
        "        if pointA<pointB:\n",
        "            self.p=pointA\n",
        "            self.q=pointB\n",
        "        else:\n",
        "            self.p=pointB\n",
        "            self.q=pointA\n",
        "        self.color=color\n",
        "    \n",
        "    def prt(self):\n",
        "        print((self.p.x,self.p.y), (self.q.x,self.q.y), REDBLUE[self.color])\n",
        "        return self\n",
        "    \n",
        "    def cmpPt(self,p):\n",
        "        return detTest(self.p.x,self.p.y,self.q.x,self.q.y,p.x,p.y)\n",
        "    \n",
        "    # JSS: does not handle colinear case or crossing cases\n",
        "    def cmp(self,other):\n",
        "        assert self.color==other.color  # JSS: assumes segments are the same color, so lets assert it\n",
        "        sp=other.cmpPt(self.p)\n",
        "        sq=other.cmpPt(self.q)\n",
        "        if sp*sq<0:\n",
        "            sp=self.cmpPt(other.p)\n",
        "            sq=self.cmpPt(other.q)\n",
        "            if sp==0:\n",
        "                return sq\n",
        "            return sp\n",
        "        if sp==0:\n",
        "            return sq\n",
        "        return sp\n",
        "    \n",
        "  #  def cross(self,segB): # JSS: not used\n",
        "  #      return cross(self.p.x,self.p.y,self.q.x,self.q.y,segB.p.x,segB.p.y,segB.q.x,segB.q.y)\n",
        "    \n",
        "    def equals(self,other):\n",
        "        return self.p==other.p and self.q==other.q and self.color==other.color\n",
        "          \n",
        "    def slope(self):\n",
        "        if (self.q.x-self.p.x)==0: # JSS: IEEE 754 specifies that division by zero gives +/-Inf, so this test is not needed. \n",
        "            return float('inf') \n",
        "        else:\n",
        "            return (self.q.y-self.p.y)/(self.q.x-self.p.x)\n",
        "\n",
        "    def plot(self):\n",
        "         plt.plot([self.p.x,self.q.x],[self.p.y,self.q.y],RBCOLOR[self.color])\n",
        "\n",
        "\n",
        "    #ordered by aboveness (no intersections)\n",
        "    #should only compare same colored segs\n",
        "    def __lt__(self,other):\n",
        "        return self.cmp(other)<0\n",
        "    def __gt__(self,other):\n",
        "        return self.cmp(other)>0\n",
        "    def __eq__(self,other): # JSS: this is not an equality test but a colinearity test. Ignores color.\n",
        "        if other==None:\n",
        "            return False\n",
        "        return self.cmp(other)==0\n",
        "    def __le__(self,other):\n",
        "        return self.cmp(other)<=0\n",
        "    def __ge__(self,other):\n",
        "        return self.cmp(other)>=0\n",
        "    def __ne__(self,other):\n",
        "        return not self==other\n",
        "    \n",
        "            \n",
        "\n"
      ],
      "execution_count": 0,
      "outputs": []
    },
    {
      "cell_type": "code",
      "metadata": {
        "colab_type": "code",
        "id": "sk9O0VTKTFJo",
        "outputId": "4b576cba-3872-4cfd-cbd8-802e2c71ae6b",
        "colab": {
          "base_uri": "https://localhost:8080/",
          "height": 137
        }
      },
      "source": [
        "s0022 = Segment(Point(0,0), Point(2,2), 0).prt() # red\n",
        "s4411 = Segment(Point(4,4), Point(1,1), 1).prt() # blue\n",
        "s3344 = Segment(Point(3,3), Point(4,4), 0).prt() # red\n",
        "s0322 = Segment(Point(0,3), Point(2,2), 0).prt() # red\n",
        "s0244 = Segment(Point(0,2), Point(4,4), 1).prt() # blue\n",
        "print(s0022==s3344) # should not be true #SM: tests for collinearity\n",
        "print(s0244 > s4411, s0322>s0022 ) # should be true\n",
        "# s3344 == s4411# can't test these of opposite color"
      ],
      "execution_count": 14,
      "outputs": [
        {
          "output_type": "stream",
          "text": [
            "(0, 0) (2, 2) red\n",
            "(1, 1) (4, 4) blue\n",
            "(3, 3) (4, 4) red\n",
            "(0, 3) (2, 2) red\n",
            "(0, 2) (4, 4) blue\n",
            "True\n",
            "True True\n"
          ],
          "name": "stdout"
        }
      ]
    },
    {
      "cell_type": "code",
      "metadata": {
        "colab_type": "code",
        "id": "A6ZVTUl1Vjht",
        "colab": {}
      },
      "source": [
        "#flags are made from a segment and a endpoint of the segment\n",
        "#0 is for startpt, 1 is for endpt\n",
        "class Flag:\n",
        "    def __init__(self, segment, endpoint):\n",
        "        self.seg=segment\n",
        "        self.pt=endpoint\n",
        "        if self.pt==self.seg.p:\n",
        "            self.type=0\n",
        "        elif self.pt==self.seg.q:\n",
        "            self.type=1\n",
        "        else:\n",
        "            raise NameError('point is not an endpoint of segment')    \n",
        "            \n",
        "    def prt(self):\n",
        "        self.pt.prt()\n",
        "        self.seg.prt()\n",
        "        return self\n",
        "    \n",
        "    def slope(self):\n",
        "        return self.seg.slope()\n",
        "    \n",
        "    #assume: segments are broken so that no endpoint of one lies inside another.\n",
        "    #        flags are compared only with segments that overlap the interval before (for start flags)\n",
        "    #              or after (for terminal flags) the endpoint.  \n",
        "    def cmpSeg(self,seg):\n",
        "        if seg.cmpPt(self.pt)<0:  # JSS: fix to avoid recomputing comparison\n",
        "            return -1\n",
        "        elif seg.cmpPt(self.pt)>0:\n",
        "            return 1\n",
        "        else: # JSS: depends on overlap assumption.\n",
        "            if self.slope()==seg.slope():\n",
        "                return self.seg.color-seg.color # JSS: depends on color = 0 or 1 to give -1, 0, or 1\n",
        "            else:\n",
        "              return 1 if ((self.slope()>seg.slope()) == (self.type==0)) else -1 # JSS: this will recompute slope -- rewrite to avoid that\n",
        "              \n",
        "#JSS: need a complete set of test cases for this cmp function\n",
        "    def cmp(self, flagB):\n",
        "        if self.pt<(flagB.pt):\n",
        "            return -1\n",
        "        elif self.pt>(flagB.pt):\n",
        "            return 1\n",
        "        else: # process all terminals before all starts\n",
        "            if self.type != flagB.type:\n",
        "                return flagB.type - self.type # -1 or 1\n",
        "            else: # process segs top to bottom\n",
        "                sign=1\n",
        "                if self.type==1:\n",
        "                    sign=-1\n",
        "                slopeDiff=sign*(self.seg.slope()-flagB.seg.slope())\n",
        "                if slopeDiff<0:\n",
        "                    return -1\n",
        "                elif slopeDiff>0:\n",
        "                    return 1\n",
        "                else: # process (blue above red) #  SM: process \"below\" first\n",
        "                    return self.seg.color-flagB.seg.color\n",
        "\n",
        "               \n",
        "    def __lt__(self,other):\n",
        "        return self.cmp(other)<0\n",
        "    def __gt__(self,other):\n",
        "        return self.cmp(other)>0\n",
        "    def __eq__(self,other):\n",
        "        return self.cmp(other)==0\n",
        "    def __le__(self,other):\n",
        "        return self.cmp(other)<=0\n",
        "    def __ge__(self,other):\n",
        "        return self.cmp(other)>=0\n",
        "    def __ne__(self,other):\n",
        "        return self.cmp(other)!=0 "
      ],
      "execution_count": 0,
      "outputs": []
    },
    {
      "cell_type": "code",
      "metadata": {
        "colab_type": "code",
        "id": "rPHQ6S3oZz3k",
        "outputId": "5154a6cc-53d2-4a4f-ecc7-ed9a819d0679",
        "colab": {
          "base_uri": "https://localhost:8080/",
          "height": 258
        }
      },
      "source": [
        "f441 = Flag(s4411, s4411.q).prt()\n",
        "f443 = Flag(s3344, s3344.q).prt()\n",
        "f442 = Flag(s0244, s0244.q).prt()\n",
        "f002 = Flag(s0022, s0022.p).prt()\n",
        "f114 = Flag(s4411, s4411.p).prt()\n",
        "print('f002<f441', f002.cmp(f441))\n",
        "print(f002<f441) # true\n",
        "print('f441<f442', f441.cmp(f442), 'and f442>f443', f442.cmp(f443), 'and f441>f443', f441.cmp(f443))\n",
        "print(f441<f442 and f442>f443 and f441>f443) # true  #SM: s4411 automatically changed to s4411"
      ],
      "execution_count": 16,
      "outputs": [
        {
          "output_type": "stream",
          "text": [
            "(4, 4)\n",
            "(1, 1) (4, 4) blue\n",
            "(4, 4)\n",
            "(3, 3) (4, 4) red\n",
            "(4, 4)\n",
            "(0, 2) (4, 4) blue\n",
            "(0, 0)\n",
            "(0, 0) (2, 2) red\n",
            "(1, 1)\n",
            "(1, 1) (4, 4) blue\n",
            "f002<f441 -1\n",
            "True\n",
            "f441<f442 -1 and f442>f443 1 and f441>f443 1\n",
            "True\n"
          ],
          "name": "stdout"
        }
      ]
    },
    {
      "cell_type": "markdown",
      "metadata": {
        "colab_type": "text",
        "id": "N-GmD5disMnI"
      },
      "source": [
        "# Splay tree\n",
        "We use a splay tree, implemented in the following code for `Node` and for `Tree`.  "
      ]
    },
    {
      "cell_type": "markdown",
      "metadata": {
        "colab_type": "text",
        "id": "Eukhs_TTr-3k"
      },
      "source": [
        "## Node \n",
        "A node has a `val` (which will be segment in our application), and pointers to its `parent`, and `left` & `right` children, possibly `None`.  "
      ]
    },
    {
      "cell_type": "code",
      "metadata": {
        "colab_type": "code",
        "id": "QKgw2bG69hFr",
        "colab": {}
      },
      "source": [
        "class Node:\n",
        "    #SM\n",
        "    def __init__(self,seg, parent=None, left=None, right=None):\n",
        "        self.seg=seg\n",
        "        self.parent=parent\n",
        "        self.left=left\n",
        "        self.right=right\n",
        "    \n",
        "    def prt(self): # print node alone\n",
        "        print('[Node:', self.seg, self.parent, self.left, self.right, ']' )\n",
        "        return self"
      ],
      "execution_count": 0,
      "outputs": []
    },
    {
      "cell_type": "markdown",
      "metadata": {
        "colab_type": "text",
        "id": "BbjOrtWSsR_M"
      },
      "source": [
        "## Tree\n",
        "The tree holds the `root` node and the `min` and `max` vals.\n",
        "Only the root has `parent=None`.   This is actually violated by `split` and before `join`.  \n",
        "Our trees are also in a doubly linked list (`abv` and `bel`) that alternates colors. (This is perhaps overspecializing the tree. The way you implement maintenance for `min` and `max`, you could make a bundle class that has a tree.)  I see that you have abv/bel in your bundle structure, so I'm taking them and color"
      ]
    },
    {
      "cell_type": "code",
      "metadata": {
        "colab_type": "code",
        "id": "ZKN9x-DFgvu8",
        "colab": {}
      },
      "source": [
        "class Tree:\n",
        "    def __init__(self,node,minSeg=None,maxSeg=None):\n",
        "        #SM: moved color, abv, bel to Bundle,\n",
        "        self.root=node\n",
        "        if minSeg!=None:\n",
        "            self.min=minSeg\n",
        "        else:\n",
        "            self.min=self.findMin(self.root).seg\n",
        "        \n",
        "        if maxSeg!=None:\n",
        "            self.max=maxSeg\n",
        "        else:\n",
        "            self.max=self.findMax(self.root).seg\n",
        "        \n",
        "    # operations on a tree node\n",
        "    # Splaying node x move x to the root of the tree\n",
        "    def __splay(self, x):\n",
        "        while x.parent != None:\n",
        "            if x.parent.parent == None:\n",
        "                if x == x.parent.left:\n",
        "                    # zig rotation\n",
        "                    self.__right_rotate(x.parent)\n",
        "                else:\n",
        "                    # zag rotation\n",
        "                    self.__left_rotate(x.parent)\n",
        "            elif x == x.parent.left and x.parent == x.parent.parent.left:\n",
        "                # zig-zig rotation\n",
        "                self.__right_rotate(x.parent.parent)\n",
        "                self.__right_rotate(x.parent)\n",
        "            elif x == x.parent.right and x.parent == x.parent.parent.right:\n",
        "                # zag-zag rotation\n",
        "                self.__left_rotate(x.parent.parent)\n",
        "                self.__left_rotate(x.parent)\n",
        "            elif x == x.parent.right and x.parent == x.parent.parent.left:\n",
        "                # zig-zag rotation\n",
        "                self.__left_rotate(x.parent)\n",
        "                self.__right_rotate(x.parent)\n",
        "            else:\n",
        "                # zag-zig rotation\n",
        "                self.__right_rotate(x.parent)\n",
        "                self.__left_rotate(x.parent)\n",
        "        return x # JSS: useful for testing...\n",
        "                \n",
        "    #input: node\n",
        "    #output: minimum node in its subtree\n",
        "    def findMin(self,node):\n",
        "        if node.left!=None:\n",
        "            return self.findMin(node.left)\n",
        "        else:\n",
        "            self.__splay(node)\n",
        "            return node\n",
        "    \n",
        "    def findMax(self,node):\n",
        "        if node.right!=None:\n",
        "            return self.findMax(node.right)\n",
        "        else:\n",
        "            self.__splay(node)\n",
        "            return node\n",
        "    \n",
        "    def successor(self, x):\n",
        "        # if the right subtree is not null,\n",
        "        # the successor is the leftmost node in the\n",
        "        # right subtree\n",
        "        if x.right != None:\n",
        "            return self.findMin(x.right) #JSS: odd that we splay in only one half of the if\n",
        "\n",
        "        # else it is the lowest ancestor of x whose\n",
        "        # left child is also an ancestor of x.\n",
        "        y = x.parent\n",
        "        while y != None and x == y.right:\n",
        "            x = y\n",
        "            y = y.parent\n",
        "        return y\n",
        "\n",
        "    # find the predecessor of a given node\n",
        "    def predecessor(self, x):\n",
        "        # if the left subtree is not null,\n",
        "        # the predecessor is the rightmost node in the \n",
        "        # left subtree\n",
        "        if x.left != None:\n",
        "            return self.findMax(x.left)\n",
        "\n",
        "        y = x.parent\n",
        "        while y != None and x == y.left:\n",
        "            x = y\n",
        "            y = y.parent\n",
        "        return y\n",
        "      \n",
        "    # insert a seg into the tree\n",
        "    def insert(self, seg):\n",
        "        y = None\n",
        "        x = self.root\n",
        "\n",
        "        while x != None:\n",
        "            y = x\n",
        "            if seg < x.seg:\n",
        "                x = x.left\n",
        "            else:\n",
        "                x = x.right\n",
        "        \n",
        "        node = Node(seg, y)\n",
        "        if y == None: \n",
        "            self.root = node\n",
        "        elif node.seg < y.seg:\n",
        "            y.left = node\n",
        "        else:\n",
        "            y.right = node\n",
        "        # splay the node\n",
        "        self.__splay(node)\n",
        "        \n",
        "        if seg>self.max:\n",
        "            self.max=seg\n",
        "        if seg<self.min:\n",
        "            self.min=seg\n",
        "            \n",
        "        assert self.root==node\n",
        "        return seg\n",
        "      \n",
        "\n",
        "    #input: root node it is searching in, seg\n",
        "    #output: node in tree containing the seg\n",
        "    def __findHelper(self,node,seg):\n",
        "        if seg<node.seg:\n",
        "            if node.left==None:\n",
        "                raise NameError(\"seg not in tree\")\n",
        "            return self.__findHelper(node.left,seg)\n",
        "        elif seg>node.seg:\n",
        "            if node.right==None:\n",
        "                raise NameError(\"seg not in tree\")\n",
        "            return self.__findHelper(node.right,seg)\n",
        "        else:\n",
        "            return node\n",
        "    \n",
        "    #input:segue\n",
        "    #output: node containing the seg\n",
        "    def find(self,seg):\n",
        "        if self.root==None:\n",
        "            raise NameError(\"empty tree\")\n",
        "        node=self.__findHelper(self.root,seg)\n",
        "        self.__splay(node)\n",
        "        assert self.root==node\n",
        "        return node\n",
        "    \n",
        "    def isIn(self,seg):\n",
        "        try:\n",
        "            self.find(seg)\n",
        "            return True\n",
        "        except NameError:\n",
        "            return False\n",
        "    \n",
        "       \n",
        "    # this is a tree operation, because it may change root, as well as a node.\n",
        "    # Since rotation is used only in splay, however, it is not required to maintain the root here; splay could reset it.\n",
        "    def __left_rotate(self, x):\n",
        "        y = x.right\n",
        "        x.right = y.left\n",
        "        if y.left != None:\n",
        "            y.left.parent = x\n",
        "\n",
        "        y.parent = x.parent\n",
        "        if x.parent == None:\n",
        "            self.root = y\n",
        "        elif x == x.parent.left:\n",
        "            x.parent.left = y\n",
        "        else:\n",
        "            x.parent.right = y\n",
        "        y.left = x\n",
        "        x.parent = y\n",
        "\n",
        "    # rotate right at node x\n",
        "    def __right_rotate(self, x):\n",
        "        y = x.left\n",
        "        x.left = y.right\n",
        "        if y.right != None:\n",
        "            y.right.parent = x\n",
        "        \n",
        "        y.parent = x.parent;\n",
        "        if x.parent == None:\n",
        "            self.root = y\n",
        "        elif x == x.parent.right:\n",
        "            x.parent.right = y\n",
        "        else:\n",
        "            x.parent.left = y\n",
        "        y.right = x\n",
        "        x.parent = y\n",
        "    \n",
        "    #SM: __joinNodes and __splitNode do not change self.max and self.min; The functions that use them change them\n",
        "    \n",
        "    #SM:changed to joinNodes\n",
        "    #input: node2, everything in self is smaller than the tree of node\n",
        "    #output: one node that is the merge of them\n",
        "    def __joinNodes(self,node2):\n",
        "        if self.root==None:\n",
        "            self.root=node2\n",
        "            return self.root\n",
        "        if node2==None:\n",
        "            return self.root\n",
        "        \n",
        "        node=self.findMax(self.root) #already splayed\n",
        "        assert self.root==node\n",
        "        node.right=node2\n",
        "        node2.parent=node\n",
        "        return node\n",
        "    \n",
        "    #input: segue of node to split at; must be in the tree. \n",
        "    #output: root nodes of two trees, everything in node1 is less than or equal to node; subtree of rightroot is greater\n",
        "    #JSS: found node is placed at the root of tree, with no right child.\n",
        "    def __splitNode(self,seg):\n",
        "        node=self.find(seg)   #find the node and splay to top\n",
        "        assert self.root==node\n",
        "        if node.right!=None:\n",
        "            rightroot=node.right\n",
        "            rightroot.parent=None\n",
        "        else:\n",
        "            rightroot=None\n",
        "        node.right=None\n",
        "        return [node,rightroot]\n",
        "\n",
        "    #input:seg\n",
        "    #output:self if successfully deleted\n",
        "    def delete(self,seg):\n",
        "        [segnode,rightroot]=self.__splitNode(seg)\n",
        "        if segnode.left != None:\n",
        "            self.root=segnode.left\n",
        "            self.root.parent=None\n",
        "            self.__joinNodes(rightroot)\n",
        "        elif segnode.left==None and rightroot!=None: \n",
        "            self.root=rightroot\n",
        "        elif segnode.left==None and rightroot==None:\n",
        "            self.max=None\n",
        "            self.min=None\n",
        "            return self\n",
        "        \n",
        "        if seg==self.max: #SM: added splay to findMax/Min \n",
        "            self.max=self.findMax(self.root).seg\n",
        "        if seg==self.min:\n",
        "            self.min=self.findMin(self.root).seg\n",
        "        return self\n",
        "        \n",
        "        \n",
        "    #input: other tree, self<other, no empty trees\n",
        "    #output: other tree merged into self\n",
        "    #SM: change other tree to have same seg as self\n",
        "    def joinTrees(self,other):\n",
        "        assert self.max<other.min\n",
        "        node=self.__joinNodes(other.root)\n",
        "        self.max=other.max\n",
        "        return self\n",
        "        \n",
        "    #input: seg to make the split\n",
        "    #output: two trees\n",
        "    def splitTree(self,seg):\n",
        "        [node1,node2]=self.__splitNode(seg)      \n",
        "        return [Tree(node1,self.min,seg),Tree(node2,None,self.max)]\n",
        "    \n",
        "    def __in_order_helper(self, node, segList):\n",
        "        if node != None:\n",
        "            self.__in_order_helper(node.left,segList)\n",
        "            segList.append(node.seg)\n",
        "            self.__in_order_helper(node.right,segList)\n",
        "    \n",
        "    # In-Order traversal\n",
        "    # Left Subtree -> Node -> Right Subtree\n",
        "    def inorder(self):\n",
        "        segList=[]\n",
        "        self.__in_order_helper(self.root,segList)\n",
        "        return segList\n",
        "        \n",
        "    def __print_helper(self, currPtr, indent, last):\n",
        "            # print the tree structure on the screen\n",
        "            if currPtr != None:\n",
        "                sys.stdout.write(indent)\n",
        "                if last:\n",
        "                    sys.stdout.write(\"└──\")\n",
        "                    indent += \"     \"\n",
        "                else:\n",
        "                    sys.stdout.write(\"├──\")\n",
        "                    indent += \"|    \"\n",
        "\n",
        "                print (currPtr.seg)\n",
        "\n",
        "                self.__print_helper(currPtr.right, indent, False)\n",
        "                self.__print_helper(currPtr.left, indent, True)\n",
        "\n",
        "    # print the tree structure on the screen\n",
        "    def pprint(self):\n",
        "        if self.root != None:\n",
        "            #if self.color == None:\n",
        "              print('Tree ', self.min, self.root.seg, self.max) # JSS\n",
        "            #else:\n",
        "            #  print(REDBLUE[self.color], 'Tree ', self.min, self.root.seg, self.max) # JSS\n",
        "        self.__print_helper(self.root, \"\", True)"
      ],
      "execution_count": 0,
      "outputs": []
    },
    {
      "cell_type": "code",
      "metadata": {
        "colab_type": "code",
        "id": "n0gkTQQXmfiG",
        "outputId": "041b00e5-96e9-4075-a712-c70fa5f38b69",
        "colab": {
          "base_uri": "https://localhost:8080/",
          "height": 604
        }
      },
      "source": [
        "nd = Node(1)\n",
        "nd.prt()\n",
        "t = Tree(Node(0))\n",
        "t.insert(3)\n",
        "t.insert(5)\n",
        "t.insert(4)\n",
        "t.pprint()\n",
        "t.insert(1)\n",
        "t.pprint()\n",
        "t.find(5)\n",
        "t.insert(2)\n",
        "t.pprint()\n",
        "t.delete(0)\n",
        "t.pprint()\n",
        "t.delete(1)\n",
        "t.pprint()\n",
        "t.delete(5)\n",
        "t.pprint()"
      ],
      "execution_count": 19,
      "outputs": [
        {
          "output_type": "stream",
          "text": [
            "[Node: 1 None None None ]\n",
            "Tree  0 4 5\n",
            "└──4\n",
            "     ├──5\n",
            "     └──3\n",
            "          └──0\n",
            "Tree  0 1 5\n",
            "└──1\n",
            "     ├──4\n",
            "     |    ├──5\n",
            "     |    └──3\n",
            "     └──0\n",
            "Tree  0 2 5\n",
            "└──2\n",
            "     ├──4\n",
            "     |    ├──5\n",
            "     |    └──3\n",
            "     └──1\n",
            "          └──0\n",
            "Tree  1 1 5\n",
            "└──1\n",
            "     ├──2\n",
            "     |    ├──4\n",
            "     |    |    ├──5\n",
            "     |    |    └──3\n",
            "Tree  2 2 5\n",
            "└──2\n",
            "     ├──4\n",
            "     |    ├──5\n",
            "     |    └──3\n",
            "Tree  2 4 4\n",
            "└──4\n",
            "     └──2\n",
            "          ├──3\n"
          ],
          "name": "stdout"
        }
      ]
    },
    {
      "cell_type": "code",
      "metadata": {
        "id": "Ut495_RTlKpG",
        "colab_type": "code",
        "colab": {
          "base_uri": "https://localhost:8080/",
          "height": 569
        },
        "outputId": "e2d2d320-1ff7-4579-a747-a0f6aba65a0e"
      },
      "source": [
        "tree=Tree(Node(33))\n",
        "tree.insert(67)\n",
        "tree.insert(44)\n",
        "tree.insert(5)\n",
        "tree.insert(112)\n",
        "tree.insert(143)\n",
        "tree.insert(165)\n",
        "tree.insert(150)\n",
        "l=tree.inorder()\n",
        "print(l)\n",
        "tree.pprint()\n",
        "\n",
        "[treeA,treeB]=tree.splitTree(143)\n",
        "treeA.pprint()\n",
        "treeB.pprint()\n",
        "treeA.joinTrees(treeB)\n",
        "treeA.pprint()\n",
        "treeB.pprint()"
      ],
      "execution_count": 20,
      "outputs": [
        {
          "output_type": "stream",
          "text": [
            "[5, 33, 44, 67, 112, 143, 150, 165]\n",
            "Tree  5 150 165\n",
            "└──150\n",
            "     ├──165\n",
            "     └──143\n",
            "          └──112\n",
            "               └──33\n",
            "                    ├──67\n",
            "                    |    └──44\n",
            "                    └──5\n",
            "Tree  5 143 143\n",
            "└──143\n",
            "     └──112\n",
            "          └──33\n",
            "               ├──67\n",
            "               |    └──44\n",
            "               └──5\n",
            "Tree  150 150 165\n",
            "└──150\n",
            "     ├──165\n",
            "Tree  5 143 165\n",
            "└──143\n",
            "     ├──150\n",
            "     |    ├──165\n",
            "     └──112\n",
            "          └──33\n",
            "               ├──67\n",
            "               |    └──44\n",
            "               └──5\n",
            "Tree  150 150 165\n",
            "└──150\n",
            "     ├──165\n"
          ],
          "name": "stdout"
        }
      ]
    },
    {
      "cell_type": "code",
      "metadata": {
        "id": "vqlw4tLNlKpW",
        "colab_type": "code",
        "colab": {
          "base_uri": "https://localhost:8080/",
          "height": 68
        },
        "outputId": "922a5edf-d508-4f15-99d0-58fa18ac475e"
      },
      "source": [
        "tree=Tree(Node(2))\n",
        "tree.insert(1)\n",
        "tree.insert(3)\n",
        "tree.delete(2)\n",
        "tree.pprint()"
      ],
      "execution_count": 21,
      "outputs": [
        {
          "output_type": "stream",
          "text": [
            "Tree  1 1 3\n",
            "└──1\n",
            "     ├──3\n"
          ],
          "name": "stdout"
        }
      ]
    },
    {
      "cell_type": "code",
      "metadata": {
        "id": "YJkMZnzXlKpk",
        "colab_type": "code",
        "colab": {}
      },
      "source": [
        "#SM:reworked bundle class: self.tree, abv, bel are all pointers. color is constant\n",
        "#JSS: not needed; reverted to names. \n",
        "#all the abv bel changes are done in BundleList\n",
        "class Bundle:\n",
        "    def __init__(self,tree=None,abv=None,bel=None):\n",
        "        self.tree=tree\n",
        "        if tree == None:\n",
        "          self.color = None\n",
        "        else:\n",
        "          self.color = tree.root.seg.color\n",
        "        self.abv=abv\n",
        "        self.bel=bel\n",
        "    \n",
        "    \n",
        "    def __flagTestHelper(self,node,flag):\n",
        "        cmp=flag.cmpSeg(node.seg)\n",
        "        if cmp<0:\n",
        "            if node.left==None:\n",
        "                return [node,-1]\n",
        "            return self.__flagTestHelper(node.left,flag)\n",
        "        elif cmp>0:\n",
        "            if node.right==None:\n",
        "                return [node,1]\n",
        "            return self.__flagTestHelper(node.right,flag)\n",
        "        else:\n",
        "            return [node,0]\n",
        "    \n",
        "    #input: flag\n",
        "    #output: a node directly above or below it with indication (0:flag on seg, -1:flag below, 1:flag above)\n",
        "    def flagTest(self,flag):\n",
        "        return self.__flagTestHelper(self.tree.root,flag)\n",
        "    \n",
        "    #input: other bundle(nonempty)\n",
        "    #output: self.tree joined with other.tree, changed in both bundles\n",
        "    def join(self,other):\n",
        "        #A<self<other<B\n",
        "        assert self.color==other.color\n",
        "        self.tree=self.tree.joinTrees(other.tree)\n",
        "        \n",
        "        #copy self to other\n",
        "        other.tree=self.tree\n",
        "        return self\n",
        "    \n",
        "    def insert(self,seg):\n",
        "        assert seg.color==self.color\n",
        "        return self.tree.insert(seg)\n",
        "    \n",
        "    def delete(self,seg):\n",
        "        self.tree.delete(seg) #SM:operation done in BundleList\n",
        "        return self\n",
        "    \n",
        "    #input: flag, direc direction to include \n",
        "    #output: splits the tree at the flag\n",
        "    def split(self,flag,direc):\n",
        "        #A<self<B to A<b1<b2<B\n",
        "        \n",
        "        [node,d]=self.flagTest(flag)\n",
        "        if d==-1:\n",
        "            node=self.tree.predecessor(node)\n",
        "            [t1,t2]=self.tree.splitTree(node.seg)\n",
        "        elif d==1:\n",
        "            [t1,t2]=self.tree.splitTree(node.seg)\n",
        "        else:\n",
        "            if self.tree.root.left==None and self.tree.root.right==None:\n",
        "                return [self,self]\n",
        "            elif direc==1:\n",
        "                node=self.tree.predecessor(node)\n",
        "                [t1,t2]=self.tree.splitTree(node.seg)\n",
        "            else:\n",
        "                [t1,t2]=self.tree.splitTree(node.seg)\n",
        "        \n",
        "        b1=Bundle()\n",
        "        b1.tree=t1\n",
        "        b1.color=self.color\n",
        "        \n",
        "        b2=Bundle()\n",
        "        b2.tree=t2\n",
        "        b2.color=self.color\n",
        "        return [b1,b2]\n",
        "    \n",
        "    def isIn(self,seg):\n",
        "        return self.tree.isIn(seg)\n",
        "    def max(self):\n",
        "        return self.tree.max\n",
        "    def min(self):\n",
        "        return self.tree.min\n",
        "    def color(self):\n",
        "        return self.tree.color\n",
        "    def isEmpty(self):\n",
        "        if self.tree.root==None:\n",
        "            return True\n",
        "        return False\n",
        "    \n",
        "    def plot(self):\n",
        "        l=self.tree.inorder()\n",
        "        for i in range(len(l)):\n",
        "            l[i].prt()\n",
        "            l[i].plot()\n",
        "        print(' ')\n",
        "        plt.axis('equal')"
      ],
      "execution_count": 0,
      "outputs": []
    },
    {
      "cell_type": "code",
      "metadata": {
        "id": "sqXvveOBlKpq",
        "colab_type": "code",
        "colab": {
          "base_uri": "https://localhost:8080/",
          "height": 320
        },
        "outputId": "1038e937-352e-4610-96d4-2ca6868ff4be"
      },
      "source": [
        "#testing insert, delete, split\n",
        "def makeSeg(px,py,qx,qy,col):\n",
        "    return Segment(Point(px,py),Point(qx,qy),col)\n",
        "\n",
        "def makeFlag(seg,typ):\n",
        "    if typ==0:\n",
        "        return Flag(seg,seg.p)\n",
        "    return Flag(seg,seg.q)\n",
        "\n",
        "r0055=makeSeg(0,0,5,5,0)\n",
        "r0045=makeSeg(0,0,4,5,0)\n",
        "r1044=makeSeg(1,0,4,4,0)\n",
        "tree=Tree(Node(r0055))\n",
        "tree.insert(r0045)\n",
        "tree.insert(r1044)\n",
        "bundle=Bundle(tree)\n",
        "#bundle.plot()\n",
        "#bundle.delete(r1044)\n",
        "#bundle.plot()\n",
        "\n",
        "r1044t=makeFlag(r1044,0)\n",
        "[b1,b2]=bundle.split(r1044t,0)\n",
        "b2.plot()"
      ],
      "execution_count": 27,
      "outputs": [
        {
          "output_type": "stream",
          "text": [
            "(0, 0) (5, 5) red\n",
            "(0, 0) (4, 5) red\n",
            " \n"
          ],
          "name": "stdout"
        },
        {
          "output_type": "display_data",
          "data": {
            "image/png": "[encoded data removed]",
            "text/plain": [
              "<Figure size 432x288 with 1 Axes>"
            ]
          },
          "metadata": {
            "tags": []
          }
        }
      ]
    },
    {
      "cell_type": "code",
      "metadata": {
        "scrolled": true,
        "id": "M3yLlIx3lKp3",
        "colab_type": "code",
        "colab": {
          "base_uri": "https://localhost:8080/",
          "height": 372
        },
        "outputId": "c2c1c003-ba81-4fa3-d441-2927cebd35f0"
      },
      "source": [
        "#testing join pointers\n",
        "#JSS:  I don't like this because you need to use all of your classes.\n",
        "# You should assume that someone gives you a collection of segs, all of the same color and in the right order, \n",
        "# and you may want to make a bundle from them.  Bundle should just add them to the tree.\n",
        "def makeSegBundle(px,py,qx,qy,col):\n",
        "    seg=Segment(Point(px,py),Point(qx,qy),col)\n",
        "    node=Node(seg)\n",
        "    tree=Tree(node,seg,seg)\n",
        "    return Bundle(tree)\n",
        "\n",
        "def makeFlag(px,py,qx,qy,col,typ):\n",
        "    seg=makeSeg(px,py,qx,qy,col)\n",
        "    if typ==0:\n",
        "        return Flag(seg,seg.p)\n",
        "    return Flag(seg,seg.q)\n",
        "\n",
        "\n",
        "a=makeSegBundle(1,1,2,2,0)\n",
        "a.bel=makeSegBundle(0,0,1,1,0)\n",
        "\n",
        "b=makeSegBundle(1,1,2,3,0)\n",
        "b.abv=makeSegBundle(0,0,1,2,0)\n",
        "\n",
        "keep=b\n",
        "\n",
        "a.join(b)\n",
        "a.plot()\n",
        "b.delete(makeSeg(1,1,2,2,0))\n",
        "a.plot()\n",
        "\n",
        "a.bel=makeSegBundle(9,9,9,9,0)\n",
        "a.tree=None\n",
        "keep.tree"
      ],
      "execution_count": 32,
      "outputs": [
        {
          "output_type": "stream",
          "text": [
            "(1, 1) (2, 2) red\n",
            "(1, 1) (2, 3) red\n",
            " \n",
            "(1, 1) (2, 3) red\n",
            " \n"
          ],
          "name": "stdout"
        },
        {
          "output_type": "execute_result",
          "data": {
            "text/plain": [
              "<__main__.Tree at 0x7f4055b34668>"
            ]
          },
          "metadata": {
            "tags": []
          },
          "execution_count": 32
        },
        {
          "output_type": "display_data",
          "data": {
            "image/png": "[encoded data removed]",
            "text/plain": [
              "<Figure size 432x288 with 1 Axes>"
            ]
          },
          "metadata": {
            "tags": []
          }
        }
      ]
    },
    {
      "cell_type": "markdown",
      "metadata": {
        "colab_type": "text",
        "id": "bbddGfM-9hF0"
      },
      "source": [
        "## Processing a flag\n",
        "\n",
        "\n",
        "### Processing the point (with slope)\n",
        "\n",
        "Find the point in the red list:\n",
        "    \n",
        "    Look through the red bundles, locate which bundle it is in or which two red bundles it is between\n",
        "    \n",
        "Ensure the point is in between two red bundles\n",
        "    \n",
        "    If it already is, good; if it is inside red bundle, split it. Keep track of them.\n",
        "\n",
        "Look for the point in the adjacent blue bundles \n",
        "    \n",
        "    Check between the red bundles, above the upper red bundle, and below the lower red bundle\n",
        "    \n",
        "If it's not in the adjacent blue bundles.\n",
        "    \n",
        "    Swap and merge appropriately\n",
        "    \n",
        "Check if it is in the adjacent blue bundle (only need to check one red), if not, swap bundles; continue until it is in an adjacent blue bundle\n",
        "\n",
        "Split blue bundle\n",
        "\n",
        "Swap\n",
        "    \n",
        "\n",
        "### Processing the segment\n",
        "\n",
        "If adding the segment:\n",
        "    \n",
        "    add the segment as a bundle or into a bundle\n",
        "    \n",
        "if removing the segment:\n",
        "\n",
        "    Check if the appropriate segment is in the proper position (since when splitting the segment goes to the bottom bundle).\n",
        "    If not, add the appropriate intersections.\n",
        "    Remove point.\n",
        "    "
      ]
    },
    {
      "cell_type": "code",
      "metadata": {
        "colab_type": "code",
        "id": "pA2UrvF19hF1",
        "colab": {}
      },
      "source": [
        "#split first, then do the merge/swaps\n",
        "#6 cases, state which case you are in\n",
        "\n",
        "def makeSegBundle(px,py,qx,qy,col):\n",
        "    seg=Segment(Point(px,py),Point(qx,qy),col)\n",
        "    node=Node(seg)\n",
        "    tree=Tree(node,seg,seg)\n",
        "    return Bundle(tree)\n",
        "\n",
        "def makeFlag(px,py,qx,qy,col,typ):\n",
        "    seg=makeSeg(px,py,qx,qy,col)\n",
        "    if typ==0:\n",
        "        return Flag(seg,seg.p)\n",
        "    return Flag(seg,seg.q)\n",
        "\n",
        "#BundleList itself holds red bundles\n",
        "class BundleList:\n",
        "    def __init__(self,rang): # JSS: blue over red\n",
        "        redLow=makeSegBundle(-rang,-rang,rang,-rang,0)\n",
        "        \n",
        "        blueLow=makeSegBundle(-rang,-rang,rang,-rang,1)\n",
        "        blueLow.bel=redLow\n",
        "        redLow.abv=blueLow\n",
        "        \n",
        "        redHigh=makeSegBundle(-rang,rang,rang,rang,0)\n",
        "        redHigh.bel=blueLow\n",
        "        blueLow.abv=redHigh\n",
        "        \n",
        "        blueHigh=makeSegBundle(-rang,rang,rang,rang,1)\n",
        "        blueHigh.bel=redHigh\n",
        "        redHigh.abv=blueHigh\n",
        "        \n",
        "        \n",
        "        self.lowest=redLow\n",
        "        self.highest=blueHigh\n",
        "    \n",
        "    def plot(self):\n",
        "        cur=self.lowest\n",
        "        while cur.abv!=None:\n",
        "            cur.plot()\n",
        "            cur=cur.abv\n",
        "        cur.plot()\n",
        "        plt.show()\n",
        "    \n",
        "    \n",
        "    #input: flag\n",
        "    #output: red bundle directly below the flag or the bundle encompassing it\n",
        "    #JSS: it is enough to test the min for this result. You'll need to look at the max in the return anyways.\n",
        "    def findFlag(self,flag):\n",
        "        cur=self.lowest\n",
        "        #invariant: cur is a red bundle that's below the flag\n",
        "        while cur.abv.abv!=None and flag.cmpSeg(cur.abv.abv.min())>=0:\n",
        "            cur=cur.abv.abv\n",
        "        return cur\n",
        "    \n",
        "    #input:bundle to swap, \n",
        "    #output: if d==1 swap up, d==0 swap down; joins nearby same colored bundles\n",
        "    def __swap(self,bundle,d):\n",
        "        #bottom, a, b, top; to bottom, b, a, top\n",
        "        if d==1:\n",
        "            a=bundle\n",
        "            b=bundle.abv\n",
        "        else:\n",
        "            a=bundle.bel\n",
        "            b=bundle\n",
        "        assert a.color()!=b.color()\n",
        "        bottom=a.bel\n",
        "        top=b.abv\n",
        "        # JSS: report intersections\n",
        "        bottom.abv=b\n",
        "        b.bel=bottom\n",
        "\n",
        "        b.abv=a\n",
        "        a.bel=b\n",
        "\n",
        "        a.abv=top\n",
        "        top.bel=a\n",
        "        if a.color()==top.color():\n",
        "            a = self.__join(top) \n",
        "        if b.color()==bottom.color():\n",
        "            self.__join(b)\n",
        "        \n",
        "        if d==1:\n",
        "            return a\n",
        "        else:\n",
        "            return b\n",
        "            \n",
        "    \n",
        "    #input:bundle that is splitting, flag to split at\n",
        "    #output: splits the bundle\n",
        "    def __split(self,bundle,flag,d):\n",
        "        return self # stub\n",
        "    \n",
        "    #input:bundle, d the direction it is joining  # JSS: you don't need to do that. Just pass the higher.\n",
        "    #output: d==1: join with Higher, else join with lower\n",
        "    def __join(self,bundle):\n",
        "        bb = bundle.bel.bel\n",
        "        bundle.join(bundle, bundle.bel)\n",
        "        bundle.bel = bb\n",
        "        return bundle\n",
        "        \n",
        "    #JSS: can we avoid the duplication of checkHigher/checkLower by always starting with the lower bundle and merging up?\n",
        "    #input: bundle, flag\n",
        "    #output: return 0 if flag is above bundle.abv.max, return 1 if not, return 2 if flag is inside bundle.abv\n",
        "    def __checkHigher(self,bundle,flag):\n",
        "        if bundle.abv==None:\n",
        "            return 1\n",
        "        \n",
        "        above=bundle.abv \n",
        "        if flag.cmpSeg(above.max())>0:\n",
        "            return 0\n",
        "        elif flag.cmpSeg(above.min())>=0:\n",
        "            return 2\n",
        "        else:\n",
        "            return 1\n",
        "          \n",
        "    def __checkLower(self,bundle,flag):\n",
        "        if bundle.bel==None:\n",
        "            return 1\n",
        "        \n",
        "        below=bundle.bel\n",
        "        if flag.cmpSeg(below.min())<0:\n",
        "            return 0\n",
        "        elif flag.cmpSeg(below.max())<=0:\n",
        "            return 2\n",
        "        else:\n",
        "            return 1\n",
        "    \n",
        "    #input: bundle\n",
        "    #output: removes the bundle from the bundleList if the bundle is empty\n",
        "    def __removeBundle(self,bundle):\n",
        "        if bundle.isEmpty():\n",
        "            bot=bundle.bel\n",
        "            top=bundle.abv\n",
        "            bot.abv=top\n",
        "            top.bel=bot\n",
        "            self.__join(bot,1)\n",
        "            return True\n",
        "        return False\n",
        "    \n",
        "    #decide the where to include equality segments by knowing whether it is swapping up or down\n",
        "    def __process1(self,flag):\n",
        "        bundle=self.findFlag(flag)\n",
        "        #print(\"bundle it's in\")\n",
        "        #bundle.plot()\n",
        "        if flag.cmpSeg(bundle.max())>0:\n",
        "            redLow=bundle\n",
        "            redHigh=bundle.abv.abv\n",
        "        else:\n",
        "            blueAbv=bundle.abv\n",
        "            blueBel=bundle.bel\n",
        "            tf=True\n",
        "            if flag.cmpSeg(blueAbv.min())>=0:\n",
        "                [redLow,redHigh]=self.__split(bundle,flag,1)\n",
        "                tf=False\n",
        "            if flag.cmpSeg(blueBel.max())<=0:\n",
        "                [redLow,redHigh]=self.__split(bundle,flag,0)\n",
        "                assert tf\n",
        "        \n",
        "        assert self.__checkHigher(redHigh,flag)!=0 or self.__checkLower(redLow,flag)!=0\n",
        "        \n",
        "        while self.__checkHigher(redHigh,flag)==0:\n",
        "            redHigh=self.__swap(redHigh,1)\n",
        "            \n",
        "        while self.__checkLower(redLow,flag)==0:\n",
        "            redLow=self.__swap(redLow,0)\n",
        "            \n",
        "        cu=self.__checkHigher(redHigh,flag)\n",
        "        cl=self.__checkLower(redLow,flag)\n",
        "        assert cu!=0 and cl!=0\n",
        "        \n",
        "        if cu==2:\n",
        "            print('cu=2')\n",
        "            [blueLow,blueHigh]=self.__split(redHigh.abv,flag,0)\n",
        "            self.__swap(blueLow,0)\n",
        "            assert blueLow.abv is redHigh\n",
        "        elif cl==2:\n",
        "            print('cl=2')\n",
        "            [blueLow,blueHigh]=self.__split(redLow.bel,flag,1)\n",
        "            self.__swap(blueHigh,1)\n",
        "            #ipdb.set_trace()\n",
        "            assert blueHigh.bel is redLow\n",
        "        elif redLow.abv.abv is redHigh:\n",
        "            print('cu=cl=1, one blue bundle in between')\n",
        "            blue=redLow.abv\n",
        "            if flag.cmpSeg(blue.max())<=0 and flag.cmpSeg(blue.min())>=0:\n",
        "                [blueLow,blueHigh]=self.__split(blue,flag,0)\n",
        "            elif flag.cmpSeg(blue.max())>0:\n",
        "                blueLow=blue\n",
        "                blueHigh=blue.abv.abv\n",
        "            else:\n",
        "                blueLow=blue.bel.bel\n",
        "                blueHigh=blue\n",
        "        elif redLow.abv is redHigh:\n",
        "            print('cu=cl=1, red bundles together')\n",
        "            blueLow=redLow.bel\n",
        "            blueHigh=redHigh.abv\n",
        "        else:\n",
        "            print('cu=cl=1')\n",
        "            blueLow=redHigh.bel\n",
        "            blueHigh=redHigh.abv\n",
        "            if flag.cmpSeg(blueLow.max())<0 or flag.cmpSeg(blueHigh.bel)>=0:\n",
        "                blueLow=redLow.bel\n",
        "                blueHigh=redHigh.abv\n",
        "        assert redLow.color()==0 and redHigh.color()==0 and blueLow.color()==1 and blueHigh.color()==1\n",
        "        \n",
        "        return [redLow,redHigh,blueLow,blueHigh]\n",
        "    \n",
        "    \n",
        "    def processFlag(self,flag):\n",
        "        [redLow,redHigh,blueLow,blueHigh]=self.__process1(flag)\n",
        "        fc=flag.seg.color\n",
        "        if flag.type==0:\n",
        "            if blueLow.abv is redHigh:\n",
        "                #print('blueLow.abv is redHigh')\n",
        "                if fc==0:\n",
        "                    redHigh.insert(flag.seg)\n",
        "                else:\n",
        "                    blueLow.insert(flag.seg)\n",
        "            elif redLow.abv is blueHigh:\n",
        "                #print('redLow.abv is blueHigh')\n",
        "                if fc==0:\n",
        "                    redLow.insert(flag.seg)\n",
        "                else:\n",
        "                    blueHigh.insert(flag.seg)\n",
        "            elif blueLow.abv is blueHigh:\n",
        "                #print('blueLow.abv is blueHigh')\n",
        "                if fc==0:\n",
        "                    newR=Bundle(flag.seg)\n",
        "                    blueLow.abv=newR\n",
        "                    newR.bel=blueLow\n",
        "                    \n",
        "                    newR.abv=blueHigh\n",
        "                    blueHigh.bel=newR\n",
        "                else:\n",
        "                    blue=self.__join(blueLow,1)\n",
        "                    blue.insert(flag.seg)\n",
        "            elif redLow.abv is redHigh:\n",
        "                #print('redLow.abv is redHigh')\n",
        "                if fc==1:\n",
        "                    newB=Bundle(flag.seg)\n",
        "                    redLow.abv=newB\n",
        "                    newB.bel=redLow\n",
        "                    \n",
        "                    newB.abv=redHigh\n",
        "                    redHigh.bel=newB\n",
        "                else:\n",
        "                    red=self.__join(redLow,1)\n",
        "                    red.insert(flag.seg)\n",
        "            else:\n",
        "                raise NameError(\"problem with process1\")\n",
        "        else:\n",
        "            if redLow.isIn(flag.seg):\n",
        "                redLow.delete(flag.seg)\n",
        "                self.__removeBundle(redLow)\n",
        "            elif redHigh.isIn(flag.seg):\n",
        "                redHigh.delete(flag.seg)\n",
        "                self.__removeBundle(redHigh)\n",
        "            elif blueLow.isIn(flag.seg):\n",
        "                blueLow.delete(flag.seg)\n",
        "                self.__removeBundle(blueLow)\n",
        "            elif blueHigh.isIn(flag.seg):\n",
        "                blueHigh.delete(flag.seg)\n",
        "                self.__removeBundle(blueHigh)\n",
        "            else:\n",
        "                raise NameError(\"problem with process1\")\n",
        "        "
      ],
      "execution_count": 0,
      "outputs": []
    },
    {
      "cell_type": "code",
      "metadata": {
        "colab_type": "code",
        "id": "FmDyttG99hF3",
        "colab": {}
      },
      "source": [
        "#for building segments\n",
        "class AllSegments:\n",
        "    def __init__(self):\n",
        "        self.red=[]\n",
        "        self.blue=[]\n",
        "        self.flags=[]\n",
        "    #adding segments \n",
        "    def addRed(self,px,py,qx,qy):\n",
        "        self.red.append(Segment(Point(px,py),Point(qx,qy),0))\n",
        "    def addBlue(self,px,py,qx,qy):\n",
        "        self.blue.append(Segment(Point(px,py),Point(qx,qy),1))\n",
        "    \n",
        "    #create square with endpts (-x,-x), (-x,x), (x,-x), (x,x)\n",
        "    def addRedSq(self,x):\n",
        "        self.addRed(-x,-x,-x,x)\n",
        "        self.addRed(-x,-x,x,-x)\n",
        "        self.addRed(x,x,x,-x)\n",
        "        self.addRed(x,x,-x,x)\n",
        "    \n",
        "    def partition(self,arr,low,high): \n",
        "        i = ( low-1 )         \n",
        "        pivot = arr[high]      \n",
        "        for j in range(low , high):      \n",
        "            if   arr[j].cmp(pivot)<=0:             \n",
        "                i = i+1 \n",
        "                arr[i],arr[j] = arr[j],arr[i] \n",
        "        arr[i+1],arr[high] = arr[high],arr[i+1] \n",
        "        return ( i+1 ) \n",
        "\n",
        "    def quickSort(self,arr,low,high): \n",
        "        if low < high: \n",
        "            pi = self.partition(arr,low,high) \n",
        "            self.quickSort(arr, low, pi-1) \n",
        "            self.quickSort(arr, pi+1, high)\n",
        "\n",
        "    def sort(self,arr):\n",
        "        self.quickSort(arr,0,len(arr)-1)\n",
        "\n",
        "    #return the sorted list of flags\n",
        "    def sortFlags(self):\n",
        "        self.flags=[]\n",
        "        for i in range(len(self.red)):\n",
        "            self.flags.append(Flag(self.red[i],self.red[i].p))\n",
        "            self.flags.append(Flag(self.red[i],self.red[i].q))\n",
        "        for i in range(len(self.blue)):\n",
        "            self.flags.append(Flag(self.blue[i],self.blue[i].p))\n",
        "            self.flags.append(Flag(self.blue[i],self.blue[i].q))\n",
        "        self.sort(self.flags)\n",
        "    \n",
        "    #plot all the segments\n",
        "    def plot(self):\n",
        "        for i in range(len(self.red)):\n",
        "            self.red[i].plot()\n",
        "        for i in range(len(self.blue)):\n",
        "            self.blue[i].plot()\n",
        "        plt.axis('equal')\n",
        "        plt.show()"
      ],
      "execution_count": 0,
      "outputs": []
    },
    {
      "cell_type": "code",
      "metadata": {
        "colab_type": "code",
        "id": "F0cro0VJ9hF6",
        "colab": {}
      },
      "source": [
        "def sweep(flags,rang):\n",
        "    bl=BundleList(rang)\n",
        "    for i in range(len(flags)):\n",
        "        bl.processFlag(flags[i])\n",
        "        bl.plot()"
      ],
      "execution_count": 0,
      "outputs": []
    },
    {
      "cell_type": "code",
      "metadata": {
        "colab_type": "code",
        "id": "DrTPU_bW9hF_",
        "colab": {},
        "outputId": "6b960d3b-8cbb-4df8-f6eb-29baae696d35"
      },
      "source": [
        "a=AllSegments()\n",
        "a.addRedSq(2)\n",
        "a.addBlue(-3,0,0,3)\n",
        "a.plot()\n",
        "a.sortFlags()\n",
        "sweep(a.flags,10)\n",
        "a.flags"
      ],
      "execution_count": 0,
      "outputs": [
        {
          "output_type": "display_data",
          "data": {
            "image/png": "[encoded data removed]",
            "text/plain": [
              "<Figure size 432x288 with 1 Axes>"
            ]
          },
          "metadata": {
            "tags": [],
            "needs_background": "light"
          }
        },
        {
          "output_type": "stream",
          "text": [
            "cu=cl=1, one blue bundle in between\n"
          ],
          "name": "stdout"
        },
        {
          "output_type": "error",
          "ename": "TypeError",
          "evalue": "'int' object is not callable",
          "traceback": [
            "\u001b[1;31m---------------------------------------------------------------------------\u001b[0m",
            "\u001b[1;31mTypeError\u001b[0m                                 Traceback (most recent call last)",
            "\u001b[1;32m<ipython-input-79-dbb489bdff93>\u001b[0m in \u001b[0;36m<module>\u001b[1;34m\u001b[0m\n\u001b[0;32m      4\u001b[0m \u001b[0ma\u001b[0m\u001b[1;33m.\u001b[0m\u001b[0mplot\u001b[0m\u001b[1;33m(\u001b[0m\u001b[1;33m)\u001b[0m\u001b[1;33m\u001b[0m\u001b[1;33m\u001b[0m\u001b[0m\n\u001b[0;32m      5\u001b[0m \u001b[0ma\u001b[0m\u001b[1;33m.\u001b[0m\u001b[0msortFlags\u001b[0m\u001b[1;33m(\u001b[0m\u001b[1;33m)\u001b[0m\u001b[1;33m\u001b[0m\u001b[1;33m\u001b[0m\u001b[0m\n\u001b[1;32m----> 6\u001b[1;33m \u001b[0msweep\u001b[0m\u001b[1;33m(\u001b[0m\u001b[0ma\u001b[0m\u001b[1;33m.\u001b[0m\u001b[0mflags\u001b[0m\u001b[1;33m,\u001b[0m\u001b[1;36m10\u001b[0m\u001b[1;33m)\u001b[0m\u001b[1;33m\u001b[0m\u001b[1;33m\u001b[0m\u001b[0m\n\u001b[0m\u001b[0;32m      7\u001b[0m \u001b[0ma\u001b[0m\u001b[1;33m.\u001b[0m\u001b[0mflags\u001b[0m\u001b[1;33m\u001b[0m\u001b[1;33m\u001b[0m\u001b[0m\n",
            "\u001b[1;32m<ipython-input-78-76ca9136aba3>\u001b[0m in \u001b[0;36msweep\u001b[1;34m(flags, rang)\u001b[0m\n\u001b[0;32m      2\u001b[0m     \u001b[0mbl\u001b[0m\u001b[1;33m=\u001b[0m\u001b[0mBundleList\u001b[0m\u001b[1;33m(\u001b[0m\u001b[0mrang\u001b[0m\u001b[1;33m)\u001b[0m\u001b[1;33m\u001b[0m\u001b[1;33m\u001b[0m\u001b[0m\n\u001b[0;32m      3\u001b[0m     \u001b[1;32mfor\u001b[0m \u001b[0mi\u001b[0m \u001b[1;32min\u001b[0m \u001b[0mrange\u001b[0m\u001b[1;33m(\u001b[0m\u001b[0mlen\u001b[0m\u001b[1;33m(\u001b[0m\u001b[0mflags\u001b[0m\u001b[1;33m)\u001b[0m\u001b[1;33m)\u001b[0m\u001b[1;33m:\u001b[0m\u001b[1;33m\u001b[0m\u001b[1;33m\u001b[0m\u001b[0m\n\u001b[1;32m----> 4\u001b[1;33m         \u001b[0mbl\u001b[0m\u001b[1;33m.\u001b[0m\u001b[0mprocessFlag\u001b[0m\u001b[1;33m(\u001b[0m\u001b[0mflags\u001b[0m\u001b[1;33m[\u001b[0m\u001b[0mi\u001b[0m\u001b[1;33m]\u001b[0m\u001b[1;33m)\u001b[0m\u001b[1;33m\u001b[0m\u001b[1;33m\u001b[0m\u001b[0m\n\u001b[0m\u001b[0;32m      5\u001b[0m         \u001b[0mbl\u001b[0m\u001b[1;33m.\u001b[0m\u001b[0mplot\u001b[0m\u001b[1;33m(\u001b[0m\u001b[1;33m)\u001b[0m\u001b[1;33m\u001b[0m\u001b[1;33m\u001b[0m\u001b[0m\n",
            "\u001b[1;32m<ipython-input-76-8f2fc2c13e6a>\u001b[0m in \u001b[0;36mprocessFlag\u001b[1;34m(self, flag)\u001b[0m\n\u001b[0;32m    242\u001b[0m \u001b[1;33m\u001b[0m\u001b[0m\n\u001b[0;32m    243\u001b[0m     \u001b[1;32mdef\u001b[0m \u001b[0mprocessFlag\u001b[0m\u001b[1;33m(\u001b[0m\u001b[0mself\u001b[0m\u001b[1;33m,\u001b[0m\u001b[0mflag\u001b[0m\u001b[1;33m)\u001b[0m\u001b[1;33m:\u001b[0m\u001b[1;33m\u001b[0m\u001b[1;33m\u001b[0m\u001b[0m\n\u001b[1;32m--> 244\u001b[1;33m         \u001b[1;33m[\u001b[0m\u001b[0mredLow\u001b[0m\u001b[1;33m,\u001b[0m\u001b[0mredHigh\u001b[0m\u001b[1;33m,\u001b[0m\u001b[0mblueLow\u001b[0m\u001b[1;33m,\u001b[0m\u001b[0mblueHigh\u001b[0m\u001b[1;33m]\u001b[0m\u001b[1;33m=\u001b[0m\u001b[0mself\u001b[0m\u001b[1;33m.\u001b[0m\u001b[0m__process1\u001b[0m\u001b[1;33m(\u001b[0m\u001b[0mflag\u001b[0m\u001b[1;33m)\u001b[0m\u001b[1;33m\u001b[0m\u001b[1;33m\u001b[0m\u001b[0m\n\u001b[0m\u001b[0;32m    245\u001b[0m         \u001b[0mfc\u001b[0m\u001b[1;33m=\u001b[0m\u001b[0mflag\u001b[0m\u001b[1;33m.\u001b[0m\u001b[0mseg\u001b[0m\u001b[1;33m.\u001b[0m\u001b[0mcolor\u001b[0m\u001b[1;33m\u001b[0m\u001b[1;33m\u001b[0m\u001b[0m\n\u001b[0;32m    246\u001b[0m         \u001b[1;32mif\u001b[0m \u001b[0mflag\u001b[0m\u001b[1;33m.\u001b[0m\u001b[0mtype\u001b[0m\u001b[1;33m==\u001b[0m\u001b[1;36m0\u001b[0m\u001b[1;33m:\u001b[0m\u001b[1;33m\u001b[0m\u001b[1;33m\u001b[0m\u001b[0m\n",
            "\u001b[1;32m<ipython-input-76-8f2fc2c13e6a>\u001b[0m in \u001b[0;36m__process1\u001b[1;34m(self, flag)\u001b[0m\n\u001b[0;32m    236\u001b[0m                 \u001b[0mblueLow\u001b[0m\u001b[1;33m=\u001b[0m\u001b[0mredLow\u001b[0m\u001b[1;33m.\u001b[0m\u001b[0mbel\u001b[0m\u001b[1;33m\u001b[0m\u001b[1;33m\u001b[0m\u001b[0m\n\u001b[0;32m    237\u001b[0m                 \u001b[0mblueHigh\u001b[0m\u001b[1;33m=\u001b[0m\u001b[0mredHigh\u001b[0m\u001b[1;33m.\u001b[0m\u001b[0mabv\u001b[0m\u001b[1;33m\u001b[0m\u001b[1;33m\u001b[0m\u001b[0m\n\u001b[1;32m--> 238\u001b[1;33m         \u001b[1;32massert\u001b[0m \u001b[0mredLow\u001b[0m\u001b[1;33m.\u001b[0m\u001b[0mcolor\u001b[0m\u001b[1;33m(\u001b[0m\u001b[1;33m)\u001b[0m\u001b[1;33m==\u001b[0m\u001b[1;36m0\u001b[0m \u001b[1;32mand\u001b[0m \u001b[0mredHigh\u001b[0m\u001b[1;33m.\u001b[0m\u001b[0mcolor\u001b[0m\u001b[1;33m(\u001b[0m\u001b[1;33m)\u001b[0m\u001b[1;33m==\u001b[0m\u001b[1;36m0\u001b[0m \u001b[1;32mand\u001b[0m \u001b[0mblueLow\u001b[0m\u001b[1;33m.\u001b[0m\u001b[0mcolor\u001b[0m\u001b[1;33m(\u001b[0m\u001b[1;33m)\u001b[0m\u001b[1;33m==\u001b[0m\u001b[1;36m1\u001b[0m \u001b[1;32mand\u001b[0m \u001b[0mblueHigh\u001b[0m\u001b[1;33m.\u001b[0m\u001b[0mcolor\u001b[0m\u001b[1;33m(\u001b[0m\u001b[1;33m)\u001b[0m\u001b[1;33m==\u001b[0m\u001b[1;36m1\u001b[0m\u001b[1;33m\u001b[0m\u001b[1;33m\u001b[0m\u001b[0m\n\u001b[0m\u001b[0;32m    239\u001b[0m \u001b[1;33m\u001b[0m\u001b[0m\n\u001b[0;32m    240\u001b[0m         \u001b[1;32mreturn\u001b[0m \u001b[1;33m[\u001b[0m\u001b[0mredLow\u001b[0m\u001b[1;33m,\u001b[0m\u001b[0mredHigh\u001b[0m\u001b[1;33m,\u001b[0m\u001b[0mblueLow\u001b[0m\u001b[1;33m,\u001b[0m\u001b[0mblueHigh\u001b[0m\u001b[1;33m]\u001b[0m\u001b[1;33m\u001b[0m\u001b[1;33m\u001b[0m\u001b[0m\n",
            "\u001b[1;31mTypeError\u001b[0m: 'int' object is not callable"
          ]
        }
      ]
    },
    {
      "cell_type": "code",
      "metadata": {
        "id": "KDYJ58mnlKqf",
        "colab_type": "code",
        "colab": {},
        "outputId": "1548d92c-3663-4229-f654-63e088438a04"
      },
      "source": [
        ""
      ],
      "execution_count": 0,
      "outputs": [
        {
          "output_type": "stream",
          "text": [
            "(1, 1) (2, 2) red\n",
            "(1, 1) (2, 3) red\n",
            " \n"
          ],
          "name": "stdout"
        },
        {
          "output_type": "display_data",
          "data": {
            "image/png": "[encoded data removed]",
            "text/plain": [
              "<Figure size 432x288 with 1 Axes>"
            ]
          },
          "metadata": {
            "tags": [],
            "needs_background": "light"
          }
        }
      ]
    },
    {
      "cell_type": "code",
      "metadata": {
        "colab_type": "code",
        "id": "h26mAw9Z9hGE",
        "colab": {}
      },
      "source": [
        "a=Bundle(makeSeg(1,2,3,4,0))\n",
        "b=a\n",
        "a.abv=Bundle(makeSeg(1,2,3,5,0))\n",
        "b.abv.plot()"
      ],
      "execution_count": 0,
      "outputs": []
    },
    {
      "cell_type": "code",
      "metadata": {
        "colab_type": "code",
        "id": "84DMclYa9hGH",
        "colab": {}
      },
      "source": [
        "a=BundleList(5)\n",
        "temp=a.lowest.abv\n",
        "a.lowest.tree=1234\n",
        "temp.bel.plot()"
      ],
      "execution_count": 0,
      "outputs": []
    },
    {
      "cell_type": "code",
      "metadata": {
        "colab_type": "code",
        "id": "tRGrbpWw9hGK",
        "colab": {}
      },
      "source": [
        "a=BundleList(10)\n",
        "a2=[a.lowest.abv.abv]\n",
        "a1=[a.lowest]\n",
        "a.redBs=[a1,a2]\n",
        "a1=None\n",
        "a.redBs.plot()"
      ],
      "execution_count": 0,
      "outputs": []
    },
    {
      "cell_type": "code",
      "metadata": {
        "colab_type": "code",
        "id": "RVmnh9bv9hGN",
        "colab": {}
      },
      "source": [
        "a=Bundle(makeSeg(1,2,3,4,0))\n",
        "b=Bundle(makeSeg(1,2,3,5,0))\n",
        "a.abv=b\n",
        "b.abv=Bundle(makeSeg(1,2,3,6,0))\n",
        "a.abv.abv.plot()"
      ],
      "execution_count": 0,
      "outputs": []
    },
    {
      "cell_type": "code",
      "metadata": {
        "colab_type": "code",
        "id": "HoUQlYSa9hGS",
        "colab": {}
      },
      "source": [
        "a=Bundle(makeSeg(1,2,3,4,0))\n",
        "b=a\n",
        "a.setTo(None)\n",
        "b.plot()"
      ],
      "execution_count": 0,
      "outputs": []
    },
    {
      "cell_type": "code",
      "metadata": {
        "colab_type": "code",
        "id": "OBoomu0n9hGX",
        "colab": {}
      },
      "source": [
        "a=Bundle(makeSeg(1,2,3,4,0))\n",
        "b=a\n",
        "a=(Bundle(makeSeg(1,2,3,5,0)))\n",
        "b.plot()"
      ],
      "execution_count": 0,
      "outputs": []
    },
    {
      "cell_type": "code",
      "metadata": {
        "colab_type": "code",
        "id": "htsJOzFc9hGb",
        "colab": {}
      },
      "source": [
        "bl=BundleList(10)\n",
        "flag1=makeFlag(1,2,3,4,1,0)\n",
        "flag2=makeFlag(1,2,3,4,0,0)\n",
        "bl.processFlag(flag2)\n",
        "bl.processFlag(flag1)\n",
        "bl.plot()\n",
        "flag3=makeFlag(1,2,3,4,0,1)\n",
        "bl.processFlag(flag3)\n",
        "flag4=makeFlag(1,2,3,4,1,1)\n",
        "bl.processFlag(flag4)\n",
        "bl.plot()"
      ],
      "execution_count": 0,
      "outputs": []
    },
    {
      "cell_type": "code",
      "metadata": {
        "colab_type": "code",
        "id": "laYMBD0O9hGi",
        "colab": {}
      },
      "source": [
        "s=AllSegments()\n",
        "for i in range(0,10,2):\n",
        "    s.addBlue(-i-1,i-2,0,0)\n",
        "for i in range(11,1,-2):\n",
        "    s.addBlue(-i-1,i-2,0,0)\n",
        "b=Bundle(1)\n",
        "s.sortFlags()\n",
        "for i in range(5):\n",
        "    b.insertB(s.blue[2*i])\n",
        "b.plot()"
      ],
      "execution_count": 0,
      "outputs": []
    },
    {
      "cell_type": "code",
      "metadata": {
        "colab_type": "code",
        "id": "KClyUFY39hGm",
        "colab": {}
      },
      "source": [
        "for i in range(len(s.flags)):\n",
        "    [node,x]=b.flagTest(s.flags[-i])\n",
        "    if x!=0:\n",
        "        s.flags[-i].prt()\n",
        "        print(x)\n",
        "        node.val.prt()\n",
        "        print(' ')"
      ],
      "execution_count": 0,
      "outputs": []
    },
    {
      "cell_type": "code",
      "metadata": {
        "colab_type": "code",
        "id": "N8q4r91t9hGz",
        "colab": {}
      },
      "source": [
        "a=2\n",
        "b=5\n",
        "a=b\n",
        "b=4\n",
        "a"
      ],
      "execution_count": 0,
      "outputs": []
    }
  ]
}