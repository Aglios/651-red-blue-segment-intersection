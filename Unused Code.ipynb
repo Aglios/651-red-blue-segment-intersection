{
 "cells": [
  {
   "cell_type": "code",
   "execution_count": null,
   "metadata": {},
   "outputs": [],
   "source": [
    "'''\n",
    "assume that there are no overlaps of any color and intersections of the same color\n",
    "meaning we don't have to break segments or check same color intersections\n",
    "label same colored segments so sweepline intersects them in increasing order (laebl wrt aboveness)\n",
    "'''\n",
    "#data structure for building tree wrt aboveness\n",
    "class Node:\n",
    "    def __init__(self, seg):\n",
    "        self.seg=seg\n",
    "        self.children=[]\n",
    "\n",
    "class AoveTree:\n",
    "    def __init__(self,node):\n",
    "        self.sentinel=node\n",
    "        self.label=-1\n",
    "    \n",
    "    def preOrderLabel(self,node):\n",
    "        node.seg.k=self.label\n",
    "        self.label+=1\n",
    "        for i in range(len(node.children)):\n",
    "            self.preOrderTrav(node.children[i])\n",
    "        \n",
    "#labeling wrt aboveness\n",
    "#input: flags of same colored segments\n",
    "#output1: an above tree where the children of a root contains all nodes whose segments are directly below the root's segment\n",
    "def constructTree(flags):\n",
    "    segToNode={}\n",
    "    active=RBTree()\n",
    "    for i in range(len(flags)):\n",
    "        flag=flags[i]\n",
    "        if flag.type==0:\n",
    "            segToNode[flag.seg]=Node(flag.seg)\n",
    "            active.insert(flag.seg,flag.seg)\n",
    "        else:\n",
    "            "
   ]
  }
 ],
 "metadata": {
  "kernelspec": {
   "display_name": "Python 3",
   "language": "python",
   "name": "python3"
  },
  "language_info": {
   "codemirror_mode": {
    "name": "ipython",
    "version": 3
   },
   "file_extension": ".py",
   "mimetype": "text/x-python",
   "name": "python",
   "nbconvert_exporter": "python",
   "pygments_lexer": "ipython3",
   "version": "3.7.2"
  }
 },
 "nbformat": 4,
 "nbformat_minor": 2
}
