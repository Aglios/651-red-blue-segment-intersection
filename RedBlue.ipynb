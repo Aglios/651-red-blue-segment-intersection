{
 "cells": [
  {
   "cell_type": "code",
   "execution_count": 1,
   "metadata": {},
   "outputs": [
    {
     "name": "stdout",
     "output_type": "stream",
     "text": [
      "[10 10  6]\n"
     ]
    }
   ],
   "source": [
    "import matplotlib.pyplot as plt\n",
    "import numpy as np\n",
    "#need at least 1.16.0 version of numpy\n",
    "\n",
    "file='redblue_20.txt'\n",
    "data=np.loadtxt(file,skiprows=1,dtype='i8')\n",
    "dscrp=np.loadtxt(file,max_rows=1,dtype='i8')\n",
    "print(dscrp)"
   ]
  },
  {
   "cell_type": "code",
   "execution_count": 2,
   "metadata": {
    "collapsed": true
   },
   "outputs": [],
   "source": [
    "#SI1\n",
    "#determinant test; return 1 if r is left of line pq, -1 if r right of line pq, 0 if on line pq\n",
    "def detTest(px,py,qx,qy,rx,ry):\n",
    "    D=np.array([[1,px,py],[1,qx,qy],[1,rx,ry]],dtype='i8')\n",
    "    return int(np.sign(np.linalg.det(D)))\n",
    "    \n",
    "#returns true iff pq and rs cross\n",
    "def cross(px,py,qx,qy,rx,ry,sx,sy):\n",
    "    pqr=detTest(px,py,qx,qy,rx,ry)\n",
    "    pqs=detTest(px,py,qx,qy,sx,sy)\n",
    "    if not ((pqr==1 and pqs==-1) or (pqr==-1 and pqs==1)):\n",
    "        return False\n",
    "    rsp=detTest(rx,ry,sx,sy,px,py)\n",
    "    rsq=detTest(rx,ry,sx,sy,qx,qy)\n",
    "    if not ((rsp==1 and rsq==-1) or (rsp==-1 and rsq==1)):\n",
    "        return False\n",
    "    #plt.plot([px,qx],[py,qy])\n",
    "    #plt.plot([rx,sx],[ry,sy])\n",
    "    #plt.show()\n",
    "    return True"
   ]
  },
  {
   "cell_type": "code",
   "execution_count": 3,
   "metadata": {
    "collapsed": true
   },
   "outputs": [],
   "source": [
    "#brute force test to see if description in the \n",
    "#first line matches the number of crossings in the data\n",
    "def BFsmao(dscrp,data):\n",
    "    crossing=0\n",
    "    red=data[:dscrp[0]]\n",
    "    blue=data[dscrp[0]:]\n",
    "    for i in range(len(red)):\n",
    "        for j in range(len(blue)):\n",
    "            if cross(red[i][0],red[i][1],red[i][2],red[i][3],blue[j][0],blue[j][1],blue[j][2],blue[j][3]):\n",
    "                crossing+=1\n",
    "    if crossing==dscrp[2]:\n",
    "        print('VERIFIED')\n",
    "    else:\n",
    "        print(crossing)"
   ]
  },
  {
   "cell_type": "code",
   "execution_count": 4,
   "metadata": {
    "collapsed": true
   },
   "outputs": [],
   "source": [
    "#SI2\n",
    "#classes for points and segments\n",
    "class Point:\n",
    "    def __init__(self, x, y):\n",
    "        self.x=x\n",
    "        self.y=y\n",
    "        \n",
    "    def cmp(self,pointB):\n",
    "        if self.x==pointB.x and self.y==pointB.y:\n",
    "            return 0\n",
    "        elif self.x<pointB.x:\n",
    "            return -1\n",
    "        elif self.x==pointB.x and self.y<pointB.y:\n",
    "            return -1\n",
    "        else:\n",
    "            return 1\n",
    "    def plot(self):\n",
    "        plt.scatter(self.x,self.y)\n",
    "        \n",
    "class Segment:\n",
    "    def __init__(self,pointA,pointB,color):\n",
    "        if pointA.cmp(pointB)==-1:\n",
    "            self.p=pointA\n",
    "            self.q=pointB\n",
    "        else:\n",
    "            self.p=pointB\n",
    "            self.q=pointA\n",
    "        self.color=color\n",
    "\n",
    "    def cmp(self,pointC):\n",
    "        return detTest(self.p.x,self.p.y,self.q.x,self.q.y,pointC.x,pointC.y)\n",
    "    \n",
    "    def cross(self,segB):\n",
    "        return cross(self.p.x,self.p.y,self.q.x,self.q.y,segB.p.x,segB.p.y,segB.q.x,segB.q.y)\n",
    "    \n",
    "    def same(self,seg):\n",
    "        if self.p.cmp(seg.p)==0 and self.q.cmp(seg.q)==0 and self.color==seg.color:\n",
    "            return True\n",
    "        else:\n",
    "            return False\n",
    "    def col(self,seg):\n",
    "        if self.cmp(seg.p)==0 and self.cmp(seg.q)==0:\n",
    "            return True\n",
    "        else:\n",
    "            return False\n",
    "    \n",
    "    def slope(self):\n",
    "        if (self.q.x-self.p.x)==0:\n",
    "            return float('inf')\n",
    "        else:\n",
    "            return (self.q.y-self.p.y)/(self.q.x-self.p.x)\n",
    "    def plot(self):\n",
    "        a=[self.p.x,self.q.x]\n",
    "        b=[self.p.y,self.q.y]\n",
    "        plt.plot(a,b)"
   ]
  },
  {
   "cell_type": "code",
   "execution_count": 5,
   "metadata": {
    "collapsed": true
   },
   "outputs": [],
   "source": [
    "#SI3\n",
    "#flags are made from a segment and a endpoint of the segment\n",
    "class Flag:\n",
    "    def __init__(self, segment, endpoint):\n",
    "        self.seg=segment\n",
    "        self.pt=endpoint\n",
    "        if (self.pt.cmp(self.seg.p)==0):\n",
    "            self.type=\"start\"\n",
    "        elif (self.pt.cmp(self.seg.q)==0):\n",
    "            self.type=\"term\"\n",
    "        else:\n",
    "            raise NameError('point is not an endpoint of segment')\n",
    "        \n",
    "    def cmp(self, flagB):\n",
    "        if self.pt.cmp(flagB.pt)==-1:\n",
    "            return -1\n",
    "        elif self.pt.cmp(flagB.pt)==1:\n",
    "            return 1\n",
    "        else:\n",
    "            if self.type==\"term\" and flagB.type==\"start\":\n",
    "                return -1\n",
    "            elif self.type==\"start\" and flagB.type==\"term\":\n",
    "                return 1\n",
    "            else:\n",
    "                if self.seg.slope()<flagB.seg.slope():\n",
    "                    return -1\n",
    "                elif self.seg.slope()>flagB.seg.slope():\n",
    "                    return 1\n",
    "                else:\n",
    "                    if self.type=='term':\n",
    "                        if self.seg.color=='red' and flagB.seg.color=='blue':\n",
    "                            return -1\n",
    "                        elif self.seg.color=='blue' and flagB.seg.color=='red':\n",
    "                            return 1\n",
    "                        else:\n",
    "                            raise NameError('overlapping lines of same color')\n",
    "                    else:\n",
    "                        if self.seg.color=='blue' and flagB.seg.color=='red':\n",
    "                            return -1\n",
    "                        elif self.seg.color=='red' and flagB.seg.color=='blue':\n",
    "                            return 1\n",
    "                        else:\n",
    "                            raise NameError('overlapping lines of same color')  "
   ]
  },
  {
   "cell_type": "code",
   "execution_count": 6,
   "metadata": {
    "collapsed": true
   },
   "outputs": [],
   "source": [
    "#SI3\n",
    "#quicksort for flags\n",
    "#adapted from: www.geeksforgeeks.org/python-program-for-quicksort/\n",
    "def partition(arr,low,high): \n",
    "    i = ( low-1 )         \n",
    "    pivot = arr[high]      \n",
    "    for j in range(low , high):      \n",
    "        if   arr[j].cmp(pivot)<=0:             \n",
    "            i = i+1 \n",
    "            arr[i],arr[j] = arr[j],arr[i] \n",
    "    arr[i+1],arr[high] = arr[high],arr[i+1] \n",
    "    return ( i+1 ) \n",
    "\n",
    "def quickSort(arr,low,high): \n",
    "    if low < high: \n",
    "        pi = partition(arr,low,high) \n",
    "        quickSort(arr, low, pi-1) \n",
    "        quickSort(arr, pi+1, high)\n",
    "        \n",
    "def sort(arr):\n",
    "    quickSort(arr,0,len(arr)-1)"
   ]
  },
  {
   "cell_type": "code",
   "execution_count": 7,
   "metadata": {
    "collapsed": true
   },
   "outputs": [],
   "source": [
    "#SI3\n",
    "#putting all the data into flags and sorting them\n",
    "\n",
    "#make flags from array of values\n",
    "def makeFlagsRaw(data):\n",
    "    flags=[]\n",
    "    for i in range(len(data)):\n",
    "        p=Point(data[i][0],data[i][1])\n",
    "        q=Point(data[i][2],data[i][3])\n",
    "        if i<dscrp[0]:\n",
    "            pq=Segment(p,q,'red')\n",
    "        else:\n",
    "            pq=Segment(p,q,'blue')\n",
    "        flags.append(Flag(pq,p))\n",
    "        flags.append(Flag(pq,q))\n",
    "    return flags\n",
    "\n",
    "#make flags array of segments\n",
    "def makeFlags(segs):\n",
    "    flags=[]\n",
    "    for i in range(len(segs)):\n",
    "        flags.append(Flag(segs[i],segs[i].p))\n",
    "        flags.append(Flag(segs[i],segs[i].q))\n",
    "    return flags\n",
    "\n",
    "flags=makeFlagsRaw(data)\n",
    "sort(flags)"
   ]
  },
  {
   "cell_type": "code",
   "execution_count": 8,
   "metadata": {
    "collapsed": true
   },
   "outputs": [],
   "source": [
    "#SI4\n",
    "#AVL tree for sweepline\n",
    "#currently using array implementation"
   ]
  },
  {
   "cell_type": "code",
   "execution_count": 9,
   "metadata": {
    "collapsed": true
   },
   "outputs": [],
   "source": [
    "#SI4,SI5\n",
    "from collections import deque\n",
    "\n",
    "#sweeps a sorted flags array and see if the red/blue segments cross, produces error if crosses\n",
    "#keeps a list of broken red/blue segments, can turn it into flags\n",
    "def checkNoCross(flags,color):\n",
    "    s=Sweep1(flags,color)\n",
    "    s.sweep()\n",
    "    return s.brokenSegFlags()\n",
    "\n",
    "\n",
    "class Sweep1():\n",
    "    def __init__(self,flags,color):\n",
    "        self.flags=deque(flags)\n",
    "        self.active=[Segment(Point(-2**20,-2**20),Point(2**20,-2**20),color),Segment(Point(-2**20,2**20),Point(2**20,2**20),color)]\n",
    "        self.color=color\n",
    "        self.brokenSegs=[]\n",
    "        \n",
    "    def insert(self,index,seg):\n",
    "        if self.active[index-1].cross(seg):\n",
    "            raise NameError('intersection detected')\n",
    "        if self.active[index].cross(seg):\n",
    "            raise NameError('intersection detected')\n",
    "        self.active.insert(index,seg)\n",
    "    def remove(self,index):\n",
    "        if self.active[index-1].cross(self.active[index+1]):\n",
    "            raise NameError('intersection detected')\n",
    "        del self.active[index]\n",
    "        \n",
    "    def nextEvent(self):\n",
    "        event=self.flags.popleft()\n",
    "        if event.type=='start':\n",
    "            if event.seg.color==self.color:\n",
    "                for i in range(len(self.active)-1):\n",
    "                    if self.active[i].cmp(event.pt)==1 and self.active[i+1].cmp(event.pt)==-1:\n",
    "                        self.insert(i+1,event.seg)\n",
    "                        self.brokenSegs.append(event.seg)  #adding to segments\n",
    "                        break\n",
    "                    elif self.active[i].cmp(event.pt)==0:\n",
    "                        raise NameError('intersection detected')\n",
    "            if event.seg.color!=self.color:\n",
    "                for i in range(len(self.active)-1):\n",
    "                    if self.active[i].cmp(event.pt)==0:\n",
    "                        segStart=self.active[i].p\n",
    "                        segEnd=self.active[i].q\n",
    "                        segColor=self.active[i].color\n",
    "                        for j in range(len(self.brokenSegs)):  #removing the unseparated segment\n",
    "                            if self.brokenSegs[j].same(self.active[i]):\n",
    "                                del self.brokenSegs[j]\n",
    "                                break\n",
    "                        self.brokenSegs.append(Segment(segStart,event.pt,segColor))  #adding back the broken segments\n",
    "                        self.brokenSegs.append(Segment(event.pt,segEnd,segColor))\n",
    "                        \n",
    "                        self.remove(i)\n",
    "                        self.insert(i,Segment(event.pt,segEnd,segColor))\n",
    "                        break\n",
    "        elif event.type=='term' and event.seg.color==self.color:\n",
    "            for i in range(len(self.active)):\n",
    "                if self.active[i].col(event.seg):\n",
    "                    self.remove(i)\n",
    "                    break\n",
    "    \n",
    "    def sweep(self):\n",
    "        while len(self.flags)>0:\n",
    "            self.nextEvent()\n",
    "        \n",
    "    def brokenSegFlags(self):\n",
    "        return makeFlags(self.brokenSegs)\n",
    "    \n"
   ]
  },
  {
   "cell_type": "code",
   "execution_count": 10,
   "metadata": {
    "collapsed": true
   },
   "outputs": [],
   "source": [
    "red=checkNoCross(flags,'red')\n",
    "blue=checkNoCross(flags,'blue')\n",
    "newFlags=red+blue\n",
    "sort(newFlags)"
   ]
  },
  {
   "cell_type": "code",
   "execution_count": 11,
   "metadata": {
    "collapsed": true
   },
   "outputs": [],
   "source": [
    "#SI6\n",
    "#for a sorted list of flags, produces the above/below segments in order of the flags\n",
    "def aboveBelowSegs(flags):\n",
    "    s=Sweep2(flags)\n",
    "    return s.sweep()\n",
    "\n",
    "\n",
    "class Sweep2():\n",
    "    def __init__(self,flags):\n",
    "        self.flags=deque(flags)\n",
    "        self.aRed=[Segment(Point(-2**20,-2**20),Point(2**20,-2**20),'red'),Segment(Point(-2**20,2**20),Point(2**20,2**20),'red')]\n",
    "        self.aBlue=[Segment(Point(-2**20,-2**20),Point(2**20,-2**20),'blue'),Segment(Point(-2**20,2**20),Point(2**20,2**20),'blue')]\n",
    "        self.aboveBelow=[]\n",
    "        self.abAll=[]\n",
    "        \n",
    "    def same(self, event, segs):\n",
    "        if event.type=='start':\n",
    "            for i in range(len(segs)-1):\n",
    "                if segs[i].cmp(event.pt)==1 and segs[i+1].cmp(event.pt)==-1:\n",
    "                    self.aboveBelow.append(segs[i])\n",
    "                    self.aboveBelow.append(segs[i+1])\n",
    "                    segs.insert(i+1,event.seg)\n",
    "                    break\n",
    "        if event.type=='term':\n",
    "            for i in range(len(segs)):\n",
    "                if segs[i].same(event.seg):\n",
    "                    self.aboveBelow.append(segs[i])\n",
    "                    self.aboveBelow.append(segs[i])\n",
    "                    del segs[i]\n",
    "                    break\n",
    "\n",
    "    def opposite(self, event, segs):\n",
    "        for i in range(len(segs)-1):\n",
    "            if segs[i].cmp(event.pt)==1 and segs[i+1].cmp(event.pt)==-1:\n",
    "                self.aboveBelow.append(segs[i])\n",
    "                self.aboveBelow.append(segs[i+1])\n",
    "                break\n",
    "            elif segs[i].cmp(event.pt)==0:\n",
    "                self.aboveBelow.append(segs[i])\n",
    "                self.aboveBelow.append(segs[i])\n",
    "                break\n",
    "                \n",
    "    def nextEvent(self):\n",
    "        event=self.flags.popleft()\n",
    "        self.aboveBelow=[]\n",
    "        if event.seg.color=='red':\n",
    "            self.same(event,self.aRed)\n",
    "            self.opposite(event,self.aBlue)\n",
    "            self.abAll.append(self.aboveBelow)\n",
    "        else:\n",
    "            self.same(event,self.aBlue)\n",
    "            self.opposite(event,self.aRed)\n",
    "            self.abAll.append(self.aboveBelow)\n",
    "            \n",
    "    def sweep(self):\n",
    "        while len(self.flags)>0:\n",
    "            self.nextEvent()\n",
    "        return self.abAll"
   ]
  },
  {
   "cell_type": "code",
   "execution_count": 12,
   "metadata": {
    "collapsed": true
   },
   "outputs": [],
   "source": [
    "abSegs=aboveBelowSegs(newFlags)"
   ]
  },
  {
   "cell_type": "code",
   "execution_count": 13,
   "metadata": {
    "collapsed": true
   },
   "outputs": [],
   "source": [
    "def findCrossings(newFlags,abSegs):\n",
    "    s=Sweep3(newFlags,abSegs)\n",
    "    return s.sweep()\n",
    "\n",
    "class Sweep3():\n",
    "    def __init__(self,newFlags,abSegs):\n",
    "        self.flags=deque(newFlags)\n",
    "        self.ab=deque(abSegs)\n",
    "        self.active=[Segment(Point(-2**20,-2**20),Point(2**20,-2**20),'blue'),Segment(Point(-2**20,-2**20),Point(2**20,-2**20),'red'),Segment(Point(-2**20,2**20),Point(2**20,2**20),'blue'),Segment(Point(-2**20,2**20),Point(2**20,2**20),'red')]\n",
    "        self.crossings=[]\n",
    "        \n",
    "    #return True if a above b, false otherwise\n",
    "    #aboveness also depends on when the function is called\n",
    "    def above(self,a,b):\n",
    "        if (b.cmp(a.p)==1 or a.cmp(b.p)==-1):\n",
    "            for i in range(len(self.crossings)):\n",
    "                if (a.same(self.crossings[i][0]) and b.same(self.crossings[i][1])) or (a.same(self.crossings[i][1]) and b.same(self.crossings[i][0])):\n",
    "                    return False\n",
    "            return True\n",
    "        elif (b.cmp(a.p)==-1 or a.cmp(b.p)==1):\n",
    "            for i in range(len(self.crossings)):\n",
    "                if (a.same(self.crossings[i][0]) and b.same(self.crossings[i][1])) or (a.same(self.crossings[i][1]) and b.same(self.crossings[i][0])):\n",
    "                    return True\n",
    "            return False\n",
    "        else:\n",
    "            if a.slope()>b.slope():\n",
    "                return True\n",
    "            return False\n",
    "        \n",
    "    def reorder(self,low,high):\n",
    "        if (low==high):\n",
    "            return\n",
    "        else:\n",
    "            unordered=self.active[low:high+1]\n",
    "            for i in range(len(unordered)):\n",
    "                self.active[low+i]=unordered[-i-1]\n",
    "                #print(unordered[i].color)\n",
    "            for i in range(len(unordered)):\n",
    "                if unordered[i].color=='red':\n",
    "                    for j in range(len(unordered)):\n",
    "                        if unordered[j].color=='blue':\n",
    "                            self.crossings.append([unordered[i],unordered[j]])\n",
    "            #print(' ')\n",
    "    \n",
    "    def insertRemove(self,flag):\n",
    "        if flag.type=='start':\n",
    "            for i in range(len(self.active)-1):\n",
    "                if (not self.above(flag.seg,self.active[i+1])) and self.above(flag.seg,self.active[i]):\n",
    "                    self.active.insert(i+1,flag.seg)\n",
    "                    break\n",
    "        else:\n",
    "            for i in range(len(self.active)-1):\n",
    "                if (flag.seg.same(self.active[i])):\n",
    "                    del self.active[i]\n",
    "                    break\n",
    "    \n",
    "    def nextEvent(self):\n",
    "        event=self.flags.popleft()\n",
    "        eventAB=self.ab.popleft()\n",
    "        low=0\n",
    "        high=1\n",
    "        if self.above(eventAB[0],eventAB[3]):\n",
    "            for i in range(len(self.active)):\n",
    "                if self.active[i].same(eventAB[3]):\n",
    "                    low=i\n",
    "                if self.active[i].same(eventAB[0]):\n",
    "                    high=i\n",
    "                    break\n",
    "            self.reorder(low,high)\n",
    "        elif self.above(eventAB[2],eventAB[1]):\n",
    "            for i in range(len(self.active)):\n",
    "                if self.active[i].same(eventAB[1]):\n",
    "                    low=i\n",
    "                if self.active[i].same(eventAB[2]):\n",
    "                    high=i\n",
    "                    break\n",
    "            self.reorder(low,high)\n",
    "        self.insertRemove(event)\n",
    "        \n",
    "    def sweep(self):\n",
    "        while len(self.flags)>0:\n",
    "            self.nextEvent()\n",
    "        return len(self.crossings)\n",
    "        "
   ]
  },
  {
   "cell_type": "code",
   "execution_count": 14,
   "metadata": {},
   "outputs": [
    {
     "data": {
      "text/plain": [
       "7"
      ]
     },
     "execution_count": 14,
     "metadata": {},
     "output_type": "execute_result"
    }
   ],
   "source": [
    "findCrossings(newFlags,abSegs)"
   ]
  },
  {
   "cell_type": "code",
   "execution_count": 15,
   "metadata": {},
   "outputs": [
    {
     "data": {
      "text/plain": [
       "400"
      ]
     },
     "execution_count": 15,
     "metadata": {},
     "output_type": "execute_result"
    }
   ],
   "source": [
    "len(abSegs)"
   ]
  },
  {
   "cell_type": "code",
   "execution_count": 47,
   "metadata": {
    "collapsed": true
   },
   "outputs": [],
   "source": [
    "a=[1,2,3,4]\n"
   ]
  },
  {
   "cell_type": "code",
   "execution_count": 48,
   "metadata": {
    "collapsed": true
   },
   "outputs": [],
   "source": [
    "b=a[:3]"
   ]
  },
  {
   "cell_type": "code",
   "execution_count": 49,
   "metadata": {},
   "outputs": [
    {
     "data": {
      "text/plain": [
       "[1, 2, 3]"
      ]
     },
     "execution_count": 49,
     "metadata": {},
     "output_type": "execute_result"
    }
   ],
   "source": [
    "b"
   ]
  },
  {
   "cell_type": "code",
   "execution_count": 51,
   "metadata": {
    "collapsed": true
   },
   "outputs": [],
   "source": [
    "b[0]=2"
   ]
  },
  {
   "cell_type": "code",
   "execution_count": 52,
   "metadata": {},
   "outputs": [
    {
     "data": {
      "text/plain": [
       "[2, 2, 3]"
      ]
     },
     "execution_count": 52,
     "metadata": {},
     "output_type": "execute_result"
    }
   ],
   "source": [
    "b"
   ]
  },
  {
   "cell_type": "code",
   "execution_count": 53,
   "metadata": {},
   "outputs": [
    {
     "data": {
      "text/plain": [
       "[1, 2, 3, 4]"
      ]
     },
     "execution_count": 53,
     "metadata": {},
     "output_type": "execute_result"
    }
   ],
   "source": [
    "a"
   ]
  },
  {
   "cell_type": "code",
   "execution_count": 54,
   "metadata": {},
   "outputs": [
    {
     "data": {
      "text/plain": [
       "5"
      ]
     },
     "execution_count": 54,
     "metadata": {},
     "output_type": "execute_result"
    }
   ],
   "source": [
    "5%10"
   ]
  },
  {
   "cell_type": "code",
   "execution_count": 79,
   "metadata": {},
   "outputs": [
    {
     "data": {
      "text/plain": [
       "[1, 2, 3, 4]"
      ]
     },
     "execution_count": 79,
     "metadata": {},
     "output_type": "execute_result"
    }
   ],
   "source": [
    "a"
   ]
  },
  {
   "cell_type": "code",
   "execution_count": 81,
   "metadata": {},
   "outputs": [
    {
     "data": {
      "text/plain": [
       "1"
      ]
     },
     "execution_count": 81,
     "metadata": {},
     "output_type": "execute_result"
    }
   ],
   "source": [
    "a[-4]"
   ]
  },
  {
   "cell_type": "code",
   "execution_count": null,
   "metadata": {
    "collapsed": true
   },
   "outputs": [],
   "source": []
  }
 ],
 "metadata": {
  "kernelspec": {
   "display_name": "Python 3",
   "language": "python",
   "name": "python3"
  },
  "language_info": {
   "codemirror_mode": {
    "name": "ipython",
    "version": 3
   },
   "file_extension": ".py",
   "mimetype": "text/x-python",
   "name": "python",
   "nbconvert_exporter": "python",
   "pygments_lexer": "ipython3",
   "version": "3.6.8"
  }
 },
 "nbformat": 4,
 "nbformat_minor": 2
}
